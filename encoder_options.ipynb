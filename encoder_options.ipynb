{
 "cells": [
  {
   "cell_type": "markdown",
   "metadata": {},
   "source": [
    "from category_encoders import TargetEncoder\n",
    "\n",
    "def target_encode(train, test, columns, target):\n",
    "    # Ensure the target column is passed as a Series or NumPy array\n",
    "    if isinstance(target, pd.Series) or isinstance(target, np.ndarray):\n",
    "        encoder = TargetEncoder(cols=columns)\n",
    "        \n",
    "        # Fit and transform train set\n",
    "        train[columns] = encoder.fit_transform(train[columns], target)\n",
    "        \n",
    "        # Transform test set\n",
    "        test[columns] = encoder.transform(test[columns])\n",
    "        \n",
    "        return train, test\n",
    "    else:\n",
    "        raise ValueError(\"Target must be a Series or an array.\")\n",
    "\n",
    "# Example of use\n",
    "X_train, X_test = target_encode(X_train, X_test, ['contact_type', 'notify'], y_train)\n"
   ]
  },
  {
   "cell_type": "markdown",
   "metadata": {},
   "source": [
    "\n",
    "def binary_encode(df, columns):\n",
    "    encoder = BinaryEncoder(cols=columns)\n",
    "    df = encoder.fit_transform(df)\n",
    "    return df\n",
    "\n",
    "X_train = binary_encode(X_train, ['contact_type'])\n",
    "X_test = binary_encode(X_test, ['contact_type'])\n"
   ]
  },
  {
   "cell_type": "markdown",
   "metadata": {},
   "source": [
    "def frequency_encode(df, columns):\n",
    "    for column in columns:\n",
    "        freq = df[column].value_counts(normalize=True)\n",
    "        df[column] = df[column].map(freq)\n",
    "    return df\n",
    "\n",
    "X_train = frequency_encode(X_train, [ 'notify'])\n",
    "X_test = frequency_encode(X_test, [ 'notify'])\n"
   ]
  },
  {
   "cell_type": "markdown",
   "metadata": {},
   "source": [
    "def apply_get_dummies(train, test, columns):\n",
    "    dummies_train = pd.get_dummies(train[columns], drop_first=True, dtype=int)\n",
    "    dummies_test = pd.get_dummies(test[columns], drop_first=True, dtype=int)\n",
    "    \n",
    "    # Align columns of train and test to avoid mismatch\n",
    "    dummies_train, dummies_test = dummies_train.align(dummies_test, join='outer', axis=1, fill_value=0)\n",
    "    \n",
    "    train = pd.concat([train.drop(columns, axis=1), dummies_train], axis=1)\n",
    "    test = pd.concat([test.drop(columns, axis=1), dummies_test], axis=1)\n",
    "    \n",
    "    return train, test\n",
    "\n",
    "X_train, X_test = apply_get_dummies(X_train, X_test, ['contact_type', 'notify'])\n"
   ]
  }
 ],
 "metadata": {
  "language_info": {
   "name": "python"
  }
 },
 "nbformat": 4,
 "nbformat_minor": 2
}

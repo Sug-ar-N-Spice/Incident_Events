{
 "cells": [
  {
   "cell_type": "code",
   "execution_count": 1,
   "metadata": {},
   "outputs": [],
   "source": [
    "import pandas as pd\n",
    "import numpy as np\n",
    "from sklearn.model_selection import train_test_split\n",
    "from sklearn.metrics import balanced_accuracy_score\n",
    "from sklearn.preprocessing import StandardScaler\n",
    "from sklearn.model_selection import GridSearchCV\n",
    "from sklearn.preprocessing import LabelEncoder\n",
    "from imblearn.under_sampling import RandomUnderSampler\n",
    "from sklearn.ensemble import RandomForestClassifier\n",
    "from sklearn.metrics import classification_report\n",
    "from sklearn.ensemble import AdaBoostClassifier\n",
    "from sklearn.metrics import accuracy_score\n",
    "from sklearn.model_selection import RandomizedSearchCV\n",
    "from imblearn.over_sampling import RandomOverSampler\n",
    "from imblearn.under_sampling import RandomUnderSampler\n",
    "from sklearn.feature_selection import SelectFromModel\n",
    "from imblearn.combine import SMOTEENN\n",
    "from imblearn.over_sampling import SMOTE\n"
   ]
  },
  {
   "cell_type": "code",
   "execution_count": 2,
   "metadata": {},
   "outputs": [],
   "source": [
    "df = pd.read_csv('incident_event_log.csv')"
   ]
  },
  {
   "cell_type": "code",
   "execution_count": null,
   "metadata": {},
   "outputs": [],
   "source": [
    "df.info()"
   ]
  },
  {
   "cell_type": "code",
   "execution_count": 4,
   "metadata": {},
   "outputs": [],
   "source": [
    "#change all ? marks to NAN values so we can manipulate them easier\n",
    "df_nan = df.copy()\n",
    "df_nan = df.replace('?',np.nan)"
   ]
  },
  {
   "cell_type": "code",
   "execution_count": null,
   "metadata": {},
   "outputs": [],
   "source": [
    "df_nan.info()"
   ]
  },
  {
   "cell_type": "code",
   "execution_count": 5,
   "metadata": {},
   "outputs": [],
   "source": [
    "#changing all objects to datetime values in the date columns\n",
    "df_nan['opened_at']= pd.to_datetime(df_nan['opened_at'],dayfirst= True)\n",
    "df_nan['resolved_at'] = pd.to_datetime(df_nan['resolved_at'], dayfirst = True)\n",
    "df_nan['closed_at'] = pd.to_datetime(df_nan['closed_at'],dayfirst = True)\n",
    "df_nan['sys_created_at'] = pd.to_datetime(df_nan['sys_created_at'],dayfirst = True)\n"
   ]
  },
  {
   "cell_type": "code",
   "execution_count": 6,
   "metadata": {},
   "outputs": [],
   "source": [
    "# creating a difference column to show the amount of days it takes to resolve a ticket that will be used for the target column\n",
    "df_nan['difference'] = (df_nan['resolved_at'] - df_nan['opened_at']).dt.days"
   ]
  },
  {
   "cell_type": "code",
   "execution_count": 7,
   "metadata": {},
   "outputs": [],
   "source": [
    "#creates a target column of 0s and 1s based on the amount of days it took to resolve the incident.\n",
    "#if the amount of days is greater than 2 or NAN it turns to 1 and if 2 or below it is a 0\n",
    "df_nan['target_colum'] = df_nan.apply(lambda row: 1 if pd.isna(row['resolved_at'])\n",
    "                                       or (row['resolved_at'] - row['opened_at']).days > 2 else 0, axis = 1)"
   ]
  },
  {
   "cell_type": "code",
   "execution_count": 13,
   "metadata": {},
   "outputs": [],
   "source": [
    "#creating another option for target column\n",
    "df_nan['target_closed'] = df_nan.apply(lambda row: 1 if (row['closed_at'] - row['opened_at']).days > 2 else 0, axis = 1)"
   ]
  },
  {
   "cell_type": "code",
   "execution_count": 15,
   "metadata": {},
   "outputs": [
    {
     "data": {
      "text/plain": [
       "target_closed\n",
       "1    141312\n",
       "0       400\n",
       "Name: count, dtype: int64"
      ]
     },
     "execution_count": 15,
     "metadata": {},
     "output_type": "execute_result"
    }
   ],
   "source": [
    "#looks way to unbalanced, not a good idea\n",
    "df_nan.value_counts('target_closed')"
   ]
  },
  {
   "cell_type": "code",
   "execution_count": 16,
   "metadata": {},
   "outputs": [
    {
     "data": {
      "text/plain": [
       "target_colum\n",
       "1    73232\n",
       "0    68480\n",
       "Name: count, dtype: int64"
      ]
     },
     "execution_count": 16,
     "metadata": {},
     "output_type": "execute_result"
    }
   ],
   "source": [
    "df_nan.value_counts('target_colum')"
   ]
  },
  {
   "cell_type": "code",
   "execution_count": 17,
   "metadata": {},
   "outputs": [
    {
     "name": "stderr",
     "output_type": "stream",
     "text": [
      "C:\\Users\\tyzwh\\AppData\\Local\\Temp\\ipykernel_988\\1345615283.py:15: DeprecationWarning: DataFrameGroupBy.apply operated on the grouping columns. This behavior is deprecated, and in a future version of pandas the grouping columns will be excluded from the operation. Either pass `include_groups=False` to exclude the groupings or explicitly select the grouping columns after groupby to silence this warning.\n",
      "  df_new_active = df_nan.groupby('number',group_keys=False).apply(new_active_incident_state).reset_index(drop=True)\n"
     ]
    }
   ],
   "source": [
    "# Creating a function to prioritize 'new' and 'active' incident states that will emliminate\n",
    "\"\"\"Parmerter: takes grouped data frame and applys to each group of data\n",
    "returns a data frame that only includes one instance of every value in the 'number' column\n",
    "that has a correlating 'incident_state' value of 'New' if possible and then filters to 'active', \n",
    "while also including one instance of a 'number' that does not have new or active in 'incident_state' \"\"\"\n",
    "def new_active_incident_state(group):\n",
    "    if (group['incident_state'] == 'New').any():\n",
    "        return group[group['incident_state'] == 'New'].iloc[0]\n",
    "    elif (group['incident_state'] == 'Active').any():\n",
    "        return group[group['incident_state'] == 'Active'].iloc[0]\n",
    "    else:\n",
    "        return group.iloc[0]  # In case neither 'new' nor 'active' exists, retain the first occurrence\n",
    "\n",
    "# Apply this function to the DataFrame by grouping by 'number'\n",
    "df_new_active = df_nan.groupby('number',group_keys=False).apply(new_active_incident_state).reset_index(drop=True)\n",
    "# View the result\n",
    "#df_new_active\n",
    "\n",
    "###warning note: group_keys = Flase is not yet apart of pandas and thus will not work, however by including group_keys = False exlcudes the 'number' column form being included in the apply results and should avoid altering the sturcture of the result\n"
   ]
  },
  {
   "cell_type": "code",
   "execution_count": 18,
   "metadata": {},
   "outputs": [
    {
     "data": {
      "text/plain": [
       "24918"
      ]
     },
     "metadata": {},
     "output_type": "display_data"
    },
    {
     "data": {
      "text/plain": [
       "24918"
      ]
     },
     "metadata": {},
     "output_type": "display_data"
    }
   ],
   "source": [
    "#This shows that our filtered dataFrame retains all of the unique values in the 'number' column\n",
    "duplicates_list = df_nan['number'].unique().tolist()\n",
    "display(len(duplicates_list))\n",
    "unique_list_check = df_new_active['number'].unique().tolist()\n",
    "display(len(unique_list_check))"
   ]
  },
  {
   "cell_type": "code",
   "execution_count": 21,
   "metadata": {},
   "outputs": [
    {
     "data": {
      "text/plain": [
       "target_colum\n",
       "0    15095\n",
       "1     9823\n",
       "Name: count, dtype: int64"
      ]
     },
     "execution_count": 21,
     "metadata": {},
     "output_type": "execute_result"
    }
   ],
   "source": [
    "#this shows that we have a slightly imbalanced data set with 2x as many trues than falses, will probably have to use sampler\n",
    "df_new_active['target_colum'].value_counts()"
   ]
  },
  {
   "cell_type": "code",
   "execution_count": 207,
   "metadata": {},
   "outputs": [
    {
     "data": {
      "text/plain": [
       "incident_state\n",
       "Active                38716\n",
       "New                   36407\n",
       "Resolved              25751\n",
       "Closed                24985\n",
       "Awaiting User Info    14642\n",
       "Awaiting Vendor         707\n",
       "Awaiting Problem        461\n",
       "Awaiting Evidence        38\n",
       "-100                      5\n",
       "Name: count, dtype: int64"
      ]
     },
     "metadata": {},
     "output_type": "display_data"
    },
    {
     "data": {
      "text/plain": [
       "incident_state\n",
       "New                   16397\n",
       "Active                 6566\n",
       "Resolved               1816\n",
       "Awaiting User Info      133\n",
       "Awaiting Problem          6\n",
       "Name: count, dtype: int64"
      ]
     },
     "metadata": {},
     "output_type": "display_data"
    }
   ],
   "source": [
    "#shows the total 8 possible values for filtering compared to the output of our filtered data frame\n",
    "display(df_nan.value_counts('incident_state'))\n",
    "display(df_new_active.value_counts('incident_state'))\n"
   ]
  },
  {
   "cell_type": "markdown",
   "metadata": {},
   "source": [
    "**Who are we presenting too:** ServiceNow IT department\n",
    "\n",
    "#### Target\n",
    "* create target column: numbers of days ticket is open???\n",
    "* what could this tell us, or how could we explain this as usefull: if we can succesfully predict whether an incident will be resolved in sufficent time given info porovided about the incident. then we could advise...???\n",
    "* who wants this\n",
    "\n",
    "#### TO DO List\n",
    "* **complete** figure out how to filter to find all duplicate incedents for same value in 'number' and only retain 1 incedence set to 'incident_status == 'new'\n",
    "* **complete**create repository and seperate branches  link: https://github.com/Sug-ar-N-Spice/Incident_Events.git\n",
    "* **complete**turn all ? into NANs\n",
    "* **complete**find documentation/info of columns   link: https://archive.ics.uci.edu/dataset/498/incident+management+process+enriched+event+log\n",
    "* **semi-complete**create target column: complete for tickets open over 2 days\n",
    "* **complete** decide if there are any columns we can get drop ..ex.'number'\n",
    "* **complete** also decide what columns would cuase dataleaks to give the model all the answers renderring our model useless..ex. time/date, days open, other columns?\n",
    "* **complete**Parameter loops\n",
    "\n",
    "* decide if the target column is relavant enough for conclusion\n",
    "* do we need fucntions? because this is our only dataset, we don't have another one to test?\n",
    "* DO we need a standard scaler(need it)\n",
    "* DO we need PCA to reduce the columns?\n",
    "* Do we need resampler(need it)\n",
    "* clustering? dont we need it for certain models? #original task is regresion and clustering should we do this to understand data\n",
    "\n",
    "**curenlty working on:**\n",
    "* **complete** list all columns with NaN values\n",
    "* find the NANS and figure out how to fill\n",
    "* replace strings with numbers\n",
    "* list out the models that we will attempt to use find code examples/syntax ready\n",
    "* Find other versions of random forest classifire \n",
    "* Try to look up code references, but randomforestclassfier might be able to overcome and just keep code numbers\n",
    "  "
   ]
  },
  {
   "cell_type": "code",
   "execution_count": 63,
   "metadata": {},
   "outputs": [
    {
     "data": {
      "text/plain": [
       "Index(['number', 'incident_state', 'active', 'reassignment_count',\n",
       "       'reopen_count', 'sys_mod_count', 'made_sla', 'caller_id', 'opened_by',\n",
       "       'opened_at', 'sys_created_by', 'sys_created_at', 'sys_updated_by',\n",
       "       'sys_updated_at', 'contact_type', 'location', 'category', 'subcategory',\n",
       "       'u_symptom', 'cmdb_ci', 'impact', 'urgency', 'priority',\n",
       "       'assignment_group', 'assigned_to', 'knowledge',\n",
       "       'u_priority_confirmation', 'notify', 'problem_id', 'rfc', 'vendor',\n",
       "       'caused_by', 'closed_code', 'resolved_by', 'resolved_at', 'closed_at',\n",
       "       'difference', 'target_colum'],\n",
       "      dtype='object')"
      ]
     },
     "execution_count": 63,
     "metadata": {},
     "output_type": "execute_result"
    }
   ],
   "source": [
    "df_nan.columns"
   ]
  },
  {
   "cell_type": "markdown",
   "metadata": {},
   "source": [
    "## create a data frame with the following columns for training\n",
    "#List of columns to keep for Training set:\n",
    "* opened_by: identifier of the user who reported the incident\n",
    "* opened_at: incident user opening date and time\n",
    "* contact_type: categorical attribute that shows by what means the incident was reported\n",
    "* location: identifier of the location of the place affected\n",
    "* category: first-level description of the affected service\n",
    "* subcategory: second-level description of the affected service (related to the first level description, i.e., to category);\n",
    "* u_symptom: description of the user perception about service availability\n",
    "* impact: description of the impact caused by the incident (values: 1â€“High; 2â€“Medium; 3â€“Low);\n",
    "* urgency: description of the urgency informed by the user for the incident resolution (values: 1â€“High; 2â€“Medium; 3â€“Low);\n",
    "* priority: calculated by the system based on 'impact' and 'urgency';\n",
    "* assignment_group: identifier of the support group in charge of the incident;\n",
    "* assigned_to: identifier of the user in charge of the incident;\n",
    "* knowledge: boolean attribute that shows whether a knowledge base document was used to resolve the incident;\n",
    "* u_priority_confirmation: boolean attribute that shows whether the priority field has been double-checked;\n",
    "* notify: categorical attribute that shows whether notifications were generated for the incident;\n",
    "\n",
    "### Too many missing values? (re-evalue to possibly fill and add back in)\n",
    "* rfc: (98 entries)(request for change) identifier of the change request associated with the incident;\n",
    "* cmdb_ci: (only has 51 entries) (confirmation item) identifier used to report the affected item (not mandatory)\n",
    "* vendor:(probably drop only 15 entries) identifier of the vendor in charge of the incident;\n",
    "* caused_by:(drop only 2 entires) identifier of the RFC responsible by the incident\n",
    "* problem_id:(241 entries) identifier of the problem associated with the incident;\n",
    "*  sys_created_by: identifier of the user who registered the incident\n",
    "* sys_created_at: incident system creation date and time\n",
    "\n",
    "\n",
    "list of potential:exclude these columns\n",
    "* sys_updated_by:(? is this generated day 1?) identifier of the user who updated the incident and generated the current log record\n",
    "* sys_updated_at:(?day 1 info?) incident system update date and time\n",
    "\n",
    "\n",
    "## list of columns not used in training set\n",
    "number, incident_state, active, reassignment_count, reopen_count, sys_mod_count, made_sla, caller_id,\n",
    "sys_created_by, sys_created_at, sys_updated_by, sys_updated_at, closed_code, resolved_by, resolved_at, closed_at\n"
   ]
  },
  {
   "cell_type": "code",
   "execution_count": 208,
   "metadata": {},
   "outputs": [
    {
     "data": {
      "text/html": [
       "<div>\n",
       "<style scoped>\n",
       "    .dataframe tbody tr th:only-of-type {\n",
       "        vertical-align: middle;\n",
       "    }\n",
       "\n",
       "    .dataframe tbody tr th {\n",
       "        vertical-align: top;\n",
       "    }\n",
       "\n",
       "    .dataframe thead th {\n",
       "        text-align: right;\n",
       "    }\n",
       "</style>\n",
       "<table border=\"1\" class=\"dataframe\">\n",
       "  <thead>\n",
       "    <tr style=\"text-align: right;\">\n",
       "      <th></th>\n",
       "      <th>number</th>\n",
       "      <th>incident_state</th>\n",
       "      <th>active</th>\n",
       "      <th>reassignment_count</th>\n",
       "      <th>reopen_count</th>\n",
       "      <th>sys_mod_count</th>\n",
       "      <th>made_sla</th>\n",
       "      <th>caller_id</th>\n",
       "      <th>opened_by</th>\n",
       "      <th>opened_at</th>\n",
       "      <th>...</th>\n",
       "      <th>problem_id</th>\n",
       "      <th>rfc</th>\n",
       "      <th>vendor</th>\n",
       "      <th>caused_by</th>\n",
       "      <th>closed_code</th>\n",
       "      <th>resolved_by</th>\n",
       "      <th>resolved_at</th>\n",
       "      <th>closed_at</th>\n",
       "      <th>difference</th>\n",
       "      <th>target_colum</th>\n",
       "    </tr>\n",
       "  </thead>\n",
       "  <tbody>\n",
       "    <tr>\n",
       "      <th>186</th>\n",
       "      <td>INC0000388</td>\n",
       "      <td>New</td>\n",
       "      <td>True</td>\n",
       "      <td>0</td>\n",
       "      <td>0</td>\n",
       "      <td>0</td>\n",
       "      <td>True</td>\n",
       "      <td>Caller 2020</td>\n",
       "      <td>Opened by  221</td>\n",
       "      <td>2016-02-29 16:43:00</td>\n",
       "      <td>...</td>\n",
       "      <td>Problem ID  17</td>\n",
       "      <td>CHG0000132</td>\n",
       "      <td>NaN</td>\n",
       "      <td>CHG0000132</td>\n",
       "      <td>code 7</td>\n",
       "      <td>Resolved by 197</td>\n",
       "      <td>2016-03-22 16:47:00</td>\n",
       "      <td>2016-03-27 16:59:00</td>\n",
       "      <td>22.0</td>\n",
       "      <td>1</td>\n",
       "    </tr>\n",
       "    <tr>\n",
       "      <th>663</th>\n",
       "      <td>INC0001131</td>\n",
       "      <td>New</td>\n",
       "      <td>True</td>\n",
       "      <td>0</td>\n",
       "      <td>0</td>\n",
       "      <td>0</td>\n",
       "      <td>True</td>\n",
       "      <td>Caller 93</td>\n",
       "      <td>Opened by  40</td>\n",
       "      <td>2016-03-02 10:41:00</td>\n",
       "      <td>...</td>\n",
       "      <td>Problem ID  8</td>\n",
       "      <td>CHG0000097</td>\n",
       "      <td>NaN</td>\n",
       "      <td>CHG0000097</td>\n",
       "      <td>code 6</td>\n",
       "      <td>Resolved by 197</td>\n",
       "      <td>2016-03-22 16:38:00</td>\n",
       "      <td>2016-03-27 16:59:00</td>\n",
       "      <td>20.0</td>\n",
       "      <td>1</td>\n",
       "    </tr>\n",
       "  </tbody>\n",
       "</table>\n",
       "<p>2 rows × 38 columns</p>\n",
       "</div>"
      ],
      "text/plain": [
       "         number incident_state  active  reassignment_count  reopen_count  \\\n",
       "186  INC0000388            New    True                   0             0   \n",
       "663  INC0001131            New    True                   0             0   \n",
       "\n",
       "     sys_mod_count  made_sla    caller_id       opened_by           opened_at  \\\n",
       "186              0      True  Caller 2020  Opened by  221 2016-02-29 16:43:00   \n",
       "663              0      True    Caller 93   Opened by  40 2016-03-02 10:41:00   \n",
       "\n",
       "     ...      problem_id         rfc vendor   caused_by closed_code  \\\n",
       "186  ...  Problem ID  17  CHG0000132    NaN  CHG0000132      code 7   \n",
       "663  ...   Problem ID  8  CHG0000097    NaN  CHG0000097      code 6   \n",
       "\n",
       "         resolved_by         resolved_at           closed_at difference  \\\n",
       "186  Resolved by 197 2016-03-22 16:47:00 2016-03-27 16:59:00       22.0   \n",
       "663  Resolved by 197 2016-03-22 16:38:00 2016-03-27 16:59:00       20.0   \n",
       "\n",
       "    target_colum  \n",
       "186            1  \n",
       "663            1  \n",
       "\n",
       "[2 rows x 38 columns]"
      ]
     },
     "execution_count": 208,
     "metadata": {},
     "output_type": "execute_result"
    }
   ],
   "source": [
    "df_caused_by = df_new_active[df_new_active['caused_by'].notna()]\n",
    "df_caused_by"
   ]
  },
  {
   "cell_type": "markdown",
   "metadata": {},
   "source": [
    "### Filling missing NANs:\n",
    "*sys_created_at and sys_created_by have the same missing values(took out of dataset) chack passes and fails count, dont know if this is day one info because the time is past the opened_at time???\n",
    "\n",
    "### Converting strings into numbers: list to convert\n",
    "* opened_at (seperate into 2 or 3 columns) No Nan values\n",
    "* rfc (98 entries) fill Nans with -1 and use label encoder? or numbers at end of code? \n",
    "* cmdb_ci (51 entries) fill NaNs with -1 already int\n",
    "* vendor (15 entries) fill with 1s, 8s and -1\n",
    "* caused_by (2 entries) ? get dummies/label encoder or numbers at the end....or drop column\n",
    "* problem_id (241 entries) use function grab_number last\n",
    "\n",
    "\n",
    "### filled with grab_number_last\n",
    "* opened_by (714 NaNs)\n",
    "* location (51 NaNs)\n",
    "* category (39 NaNs)\n",
    "* subcategory\n",
    "* u_symptom\n",
    "* assignment_group\n",
    "* assigned_to\n",
    "### columns filled with grab_1rst_num\n",
    "possibly check for pass and fails, This is there human process for deciding how imporant an incident is\n",
    "* urgency\n",
    "* priority\n",
    "* impact\n",
    "### Filled w/ onehot_bool\n",
    "*knowledge\n",
    "u_priority_confirmation\n",
    "### Filled with get_dummies\n",
    "* contact_type\n",
    "* notify\n",
    "\n",
    "\n",
    "#### original columns with NAN\n",
    "['caller_id', 'opened_by','sys_created_by','sys_created_at','location','category','subcategory',\n",
    " 'u_symptom','cmdb_ci','assignment_group','assigned_to','problem_id','rfc','vendor','caused_by',\n",
    " 'closed_code','resolved_by','resolved_at','difference']"
   ]
  },
  {
   "cell_type": "code",
   "execution_count": 22,
   "metadata": {},
   "outputs": [],
   "source": [
    "df_split_dates = df_new_active.copy()\n",
    "\n",
    "\n",
    "\n",
    "# Extract different components\n",
    "df_split_dates ['year'] = df_new_active['opened_at'].dt.year\n",
    "df_split_dates['month'] = df_new_active['opened_at'].dt.month\n",
    "df_split_dates['day'] = df_new_active['opened_at'].dt.day\n",
    "df_split_dates['hour'] = df_new_active['opened_at'].dt.hour\n",
    "df_split_dates['minute'] = df_new_active['opened_at'].dt.minute\n",
    "df_split_dates['day_of_week'] = df_new_active['opened_at'].dt.dayofweek  # Monday=0, Sunday=6"
   ]
  },
  {
   "cell_type": "code",
   "execution_count": 29,
   "metadata": {},
   "outputs": [
    {
     "data": {
      "text/html": [
       "<div>\n",
       "<style scoped>\n",
       "    .dataframe tbody tr th:only-of-type {\n",
       "        vertical-align: middle;\n",
       "    }\n",
       "\n",
       "    .dataframe tbody tr th {\n",
       "        vertical-align: top;\n",
       "    }\n",
       "\n",
       "    .dataframe thead th {\n",
       "        text-align: right;\n",
       "    }\n",
       "</style>\n",
       "<table border=\"1\" class=\"dataframe\">\n",
       "  <thead>\n",
       "    <tr style=\"text-align: right;\">\n",
       "      <th></th>\n",
       "      <th>year</th>\n",
       "      <th>month</th>\n",
       "      <th>day_of_week</th>\n",
       "      <th>opened_by</th>\n",
       "      <th>contact_type</th>\n",
       "      <th>location</th>\n",
       "      <th>category</th>\n",
       "      <th>subcategory</th>\n",
       "      <th>u_symptom</th>\n",
       "      <th>impact</th>\n",
       "      <th>urgency</th>\n",
       "      <th>priority</th>\n",
       "      <th>assignment_group</th>\n",
       "      <th>assigned_to</th>\n",
       "      <th>knowledge</th>\n",
       "      <th>u_priority_confirmation</th>\n",
       "      <th>notify</th>\n",
       "    </tr>\n",
       "  </thead>\n",
       "  <tbody>\n",
       "    <tr>\n",
       "      <th>24913</th>\n",
       "      <td>2017</td>\n",
       "      <td>2</td>\n",
       "      <td>2</td>\n",
       "      <td>Opened by  8</td>\n",
       "      <td>Email</td>\n",
       "      <td>Location 188</td>\n",
       "      <td>Category 52</td>\n",
       "      <td>Subcategory 177</td>\n",
       "      <td>Symptom 494</td>\n",
       "      <td>2 - Medium</td>\n",
       "      <td>2 - Medium</td>\n",
       "      <td>3 - Moderate</td>\n",
       "      <td>Group 64</td>\n",
       "      <td>Resolver 6</td>\n",
       "      <td>False</td>\n",
       "      <td>False</td>\n",
       "      <td>Do Not Notify</td>\n",
       "    </tr>\n",
       "    <tr>\n",
       "      <th>24914</th>\n",
       "      <td>2017</td>\n",
       "      <td>2</td>\n",
       "      <td>2</td>\n",
       "      <td>Opened by  508</td>\n",
       "      <td>IVR</td>\n",
       "      <td>Location 246</td>\n",
       "      <td>Category 50</td>\n",
       "      <td>Subcategory 10</td>\n",
       "      <td>Symptom 533</td>\n",
       "      <td>3 - Low</td>\n",
       "      <td>2 - Medium</td>\n",
       "      <td>4 - Low</td>\n",
       "      <td>Group 70</td>\n",
       "      <td>NaN</td>\n",
       "      <td>False</td>\n",
       "      <td>False</td>\n",
       "      <td>Do Not Notify</td>\n",
       "    </tr>\n",
       "    <tr>\n",
       "      <th>24915</th>\n",
       "      <td>2017</td>\n",
       "      <td>2</td>\n",
       "      <td>2</td>\n",
       "      <td>Opened by  14</td>\n",
       "      <td>Phone</td>\n",
       "      <td>Location 135</td>\n",
       "      <td>Category 59</td>\n",
       "      <td>Subcategory 210</td>\n",
       "      <td>Symptom 483</td>\n",
       "      <td>2 - Medium</td>\n",
       "      <td>2 - Medium</td>\n",
       "      <td>3 - Moderate</td>\n",
       "      <td>Group 73</td>\n",
       "      <td>NaN</td>\n",
       "      <td>False</td>\n",
       "      <td>False</td>\n",
       "      <td>Do Not Notify</td>\n",
       "    </tr>\n",
       "    <tr>\n",
       "      <th>24916</th>\n",
       "      <td>2017</td>\n",
       "      <td>2</td>\n",
       "      <td>3</td>\n",
       "      <td>Opened by  12</td>\n",
       "      <td>Email</td>\n",
       "      <td>Location 204</td>\n",
       "      <td>Category 42</td>\n",
       "      <td>Subcategory 223</td>\n",
       "      <td>Symptom 494</td>\n",
       "      <td>2 - Medium</td>\n",
       "      <td>2 - Medium</td>\n",
       "      <td>3 - Moderate</td>\n",
       "      <td>Group 70</td>\n",
       "      <td>Resolver 10</td>\n",
       "      <td>False</td>\n",
       "      <td>False</td>\n",
       "      <td>Do Not Notify</td>\n",
       "    </tr>\n",
       "    <tr>\n",
       "      <th>24917</th>\n",
       "      <td>2017</td>\n",
       "      <td>2</td>\n",
       "      <td>3</td>\n",
       "      <td>Opened by  12</td>\n",
       "      <td>Email</td>\n",
       "      <td>Location 204</td>\n",
       "      <td>Category 42</td>\n",
       "      <td>Subcategory 223</td>\n",
       "      <td>Symptom 494</td>\n",
       "      <td>2 - Medium</td>\n",
       "      <td>2 - Medium</td>\n",
       "      <td>3 - Moderate</td>\n",
       "      <td>Group 70</td>\n",
       "      <td>Resolver 10</td>\n",
       "      <td>False</td>\n",
       "      <td>False</td>\n",
       "      <td>Do Not Notify</td>\n",
       "    </tr>\n",
       "  </tbody>\n",
       "</table>\n",
       "</div>"
      ],
      "text/plain": [
       "       year  month  day_of_week       opened_by contact_type      location  \\\n",
       "24913  2017      2            2    Opened by  8        Email  Location 188   \n",
       "24914  2017      2            2  Opened by  508          IVR  Location 246   \n",
       "24915  2017      2            2   Opened by  14        Phone  Location 135   \n",
       "24916  2017      2            3   Opened by  12        Email  Location 204   \n",
       "24917  2017      2            3   Opened by  12        Email  Location 204   \n",
       "\n",
       "          category      subcategory    u_symptom      impact     urgency  \\\n",
       "24913  Category 52  Subcategory 177  Symptom 494  2 - Medium  2 - Medium   \n",
       "24914  Category 50   Subcategory 10  Symptom 533     3 - Low  2 - Medium   \n",
       "24915  Category 59  Subcategory 210  Symptom 483  2 - Medium  2 - Medium   \n",
       "24916  Category 42  Subcategory 223  Symptom 494  2 - Medium  2 - Medium   \n",
       "24917  Category 42  Subcategory 223  Symptom 494  2 - Medium  2 - Medium   \n",
       "\n",
       "           priority assignment_group  assigned_to  knowledge  \\\n",
       "24913  3 - Moderate         Group 64   Resolver 6      False   \n",
       "24914       4 - Low         Group 70          NaN      False   \n",
       "24915  3 - Moderate         Group 73          NaN      False   \n",
       "24916  3 - Moderate         Group 70  Resolver 10      False   \n",
       "24917  3 - Moderate         Group 70  Resolver 10      False   \n",
       "\n",
       "       u_priority_confirmation         notify  \n",
       "24913                    False  Do Not Notify  \n",
       "24914                    False  Do Not Notify  \n",
       "24915                    False  Do Not Notify  \n",
       "24916                    False  Do Not Notify  \n",
       "24917                    False  Do Not Notify  "
      ]
     },
     "execution_count": 29,
     "metadata": {},
     "output_type": "execute_result"
    }
   ],
   "source": [
    "train_df = df_split_dates[['year', 'month','day_of_week','opened_by', 'contact_type','location',\n",
    "                                'category', 'subcategory','u_symptom','impact','urgency', 'priority',\n",
    "                                'assignment_group','assigned_to','knowledge', 'u_priority_confirmation', 'notify',\n",
    "                                    ]]\n",
    "train_df.tail()"
   ]
  },
  {
   "cell_type": "code",
   "execution_count": null,
   "metadata": {},
   "outputs": [],
   "source": [
    "train_df.info()"
   ]
  },
  {
   "cell_type": "code",
   "execution_count": 31,
   "metadata": {},
   "outputs": [],
   "source": [
    "def grab_number_last(value):\n",
    "    \"\"\"parameter: value enter in a column from the data frame where you want to capture the last string and convert to number\n",
    "    by converting all values to string, splitting them, and then only capturing the last string\n",
    "     \n",
    "    Retruns: last string and if NaN returns -1\n",
    "      \n",
    "    call: convert the column using df.loc[:,\"column_name\"] = df[\"column_name\"].apply(grab_number_3rd).astype(int)\n",
    "    This avoids warnings and converts to an integer\"\"\"\n",
    "    \n",
    "    \n",
    "    if pd.isna(value):\n",
    "        return -1  # converts NaN values to -1\n",
    "    return str(value).split(\" \")[-1]  # splits the string and then captures the last value \n",
    "\n",
    "\n",
    "# apply the function to the desired column and convert the result to integers\n",
    "#use the loc function to specify the column being converted to avoid warnings of working on slice of dataframe\n",
    "train_df.loc[:, 'opened_by'] = train_df['opened_by'].apply(grab_number_last).astype(int)\n",
    "train_df.loc[:, 'location'] = train_df['location'].apply(grab_number_last).astype(int)\n",
    "train_df.loc[:, 'category'] = train_df['category'].apply(grab_number_last).astype(int)\n",
    "train_df.loc[:, 'subcategory'] = train_df['subcategory'].apply(grab_number_last).astype(int)\n",
    "train_df.loc[:, 'u_symptom'] = train_df['u_symptom'].apply(grab_number_last).astype(int)\n",
    "train_df.loc[:, 'assignment_group'] = train_df['assignment_group'].apply(grab_number_last).astype(int)\n",
    "train_df.loc[:, 'assigned_to'] = train_df['assigned_to'].apply(grab_number_last).astype(int)\n",
    "#train_df.loc[:, 'problem_id'] = train_df['problem_id'].apply(grab_number_last).astype(int)\n",
    "\n"
   ]
  },
  {
   "cell_type": "code",
   "execution_count": 32,
   "metadata": {},
   "outputs": [],
   "source": [
    "def grab_1rst_num(value):\n",
    "    if (value):\n",
    "        return str(value).split(\" \")[0]\n",
    "\n",
    "train_df.loc[:,'urgency'] = train_df['urgency'].apply(grab_1rst_num).astype(int)\n",
    "train_df.loc[:,'impact'] = train_df['impact'].apply(grab_1rst_num).astype(int)\n",
    "train_df.loc[:,'priority'] = train_df['priority'].apply(grab_1rst_num).astype(int)\n",
    "\n",
    "\n",
    "\n",
    "\n"
   ]
  },
  {
   "cell_type": "code",
   "execution_count": 33,
   "metadata": {},
   "outputs": [
    {
     "name": "stderr",
     "output_type": "stream",
     "text": [
      "C:\\Users\\tyzwh\\AppData\\Local\\Temp\\ipykernel_988\\1667601455.py:7: SettingWithCopyWarning: \n",
      "A value is trying to be set on a copy of a slice from a DataFrame.\n",
      "Try using .loc[row_indexer,col_indexer] = value instead\n",
      "\n",
      "See the caveats in the documentation: https://pandas.pydata.org/pandas-docs/stable/user_guide/indexing.html#returning-a-view-versus-a-copy\n",
      "  train_df['knowledge'] = train_df['knowledge'].apply(onehot_bool)\n",
      "C:\\Users\\tyzwh\\AppData\\Local\\Temp\\ipykernel_988\\1667601455.py:8: SettingWithCopyWarning: \n",
      "A value is trying to be set on a copy of a slice from a DataFrame.\n",
      "Try using .loc[row_indexer,col_indexer] = value instead\n",
      "\n",
      "See the caveats in the documentation: https://pandas.pydata.org/pandas-docs/stable/user_guide/indexing.html#returning-a-view-versus-a-copy\n",
      "  train_df['u_priority_confirmation'] = train_df['u_priority_confirmation'].apply(onehot_bool)\n"
     ]
    }
   ],
   "source": [
    "def onehot_bool(value):\n",
    "    if value == True:\n",
    "        return int(1)\n",
    "    return int(0)\n",
    "\n",
    "\n",
    "train_df['knowledge'] = train_df['knowledge'].apply(onehot_bool)\n",
    "train_df['u_priority_confirmation'] = train_df['u_priority_confirmation'].apply(onehot_bool)\n",
    "\n",
    "#train_df.loc[:, 'knowledge'] == train_df['knowledge'].apply(onehot_bool).astype(int)"
   ]
  },
  {
   "cell_type": "code",
   "execution_count": 34,
   "metadata": {},
   "outputs": [
    {
     "data": {
      "text/html": [
       "<div>\n",
       "<style scoped>\n",
       "    .dataframe tbody tr th:only-of-type {\n",
       "        vertical-align: middle;\n",
       "    }\n",
       "\n",
       "    .dataframe tbody tr th {\n",
       "        vertical-align: top;\n",
       "    }\n",
       "\n",
       "    .dataframe thead th {\n",
       "        text-align: right;\n",
       "    }\n",
       "</style>\n",
       "<table border=\"1\" class=\"dataframe\">\n",
       "  <thead>\n",
       "    <tr style=\"text-align: right;\">\n",
       "      <th></th>\n",
       "      <th>year</th>\n",
       "      <th>month</th>\n",
       "      <th>day_of_week</th>\n",
       "      <th>opened_by</th>\n",
       "      <th>location</th>\n",
       "      <th>category</th>\n",
       "      <th>subcategory</th>\n",
       "      <th>u_symptom</th>\n",
       "      <th>impact</th>\n",
       "      <th>urgency</th>\n",
       "      <th>priority</th>\n",
       "      <th>assignment_group</th>\n",
       "      <th>assigned_to</th>\n",
       "      <th>knowledge</th>\n",
       "      <th>u_priority_confirmation</th>\n",
       "      <th>contact_type_Email</th>\n",
       "      <th>contact_type_IVR</th>\n",
       "      <th>contact_type_Phone</th>\n",
       "      <th>contact_type_Self service</th>\n",
       "      <th>notify_Send Email</th>\n",
       "    </tr>\n",
       "  </thead>\n",
       "  <tbody>\n",
       "    <tr>\n",
       "      <th>0</th>\n",
       "      <td>2016</td>\n",
       "      <td>2</td>\n",
       "      <td>0</td>\n",
       "      <td>8</td>\n",
       "      <td>143</td>\n",
       "      <td>55</td>\n",
       "      <td>170</td>\n",
       "      <td>72</td>\n",
       "      <td>2</td>\n",
       "      <td>2</td>\n",
       "      <td>3</td>\n",
       "      <td>56</td>\n",
       "      <td>-1</td>\n",
       "      <td>1</td>\n",
       "      <td>0</td>\n",
       "      <td>0</td>\n",
       "      <td>0</td>\n",
       "      <td>1</td>\n",
       "      <td>0</td>\n",
       "      <td>0</td>\n",
       "    </tr>\n",
       "    <tr>\n",
       "      <th>1</th>\n",
       "      <td>2016</td>\n",
       "      <td>2</td>\n",
       "      <td>0</td>\n",
       "      <td>397</td>\n",
       "      <td>165</td>\n",
       "      <td>40</td>\n",
       "      <td>215</td>\n",
       "      <td>471</td>\n",
       "      <td>2</td>\n",
       "      <td>2</td>\n",
       "      <td>3</td>\n",
       "      <td>70</td>\n",
       "      <td>89</td>\n",
       "      <td>1</td>\n",
       "      <td>0</td>\n",
       "      <td>0</td>\n",
       "      <td>0</td>\n",
       "      <td>1</td>\n",
       "      <td>0</td>\n",
       "      <td>0</td>\n",
       "    </tr>\n",
       "    <tr>\n",
       "      <th>2</th>\n",
       "      <td>2016</td>\n",
       "      <td>2</td>\n",
       "      <td>0</td>\n",
       "      <td>8</td>\n",
       "      <td>204</td>\n",
       "      <td>20</td>\n",
       "      <td>125</td>\n",
       "      <td>471</td>\n",
       "      <td>2</td>\n",
       "      <td>2</td>\n",
       "      <td>3</td>\n",
       "      <td>70</td>\n",
       "      <td>-1</td>\n",
       "      <td>1</td>\n",
       "      <td>0</td>\n",
       "      <td>0</td>\n",
       "      <td>0</td>\n",
       "      <td>1</td>\n",
       "      <td>0</td>\n",
       "      <td>0</td>\n",
       "    </tr>\n",
       "    <tr>\n",
       "      <th>3</th>\n",
       "      <td>2016</td>\n",
       "      <td>2</td>\n",
       "      <td>0</td>\n",
       "      <td>180</td>\n",
       "      <td>204</td>\n",
       "      <td>9</td>\n",
       "      <td>97</td>\n",
       "      <td>450</td>\n",
       "      <td>2</td>\n",
       "      <td>2</td>\n",
       "      <td>3</td>\n",
       "      <td>25</td>\n",
       "      <td>125</td>\n",
       "      <td>1</td>\n",
       "      <td>0</td>\n",
       "      <td>0</td>\n",
       "      <td>0</td>\n",
       "      <td>1</td>\n",
       "      <td>0</td>\n",
       "      <td>0</td>\n",
       "    </tr>\n",
       "    <tr>\n",
       "      <th>4</th>\n",
       "      <td>2016</td>\n",
       "      <td>2</td>\n",
       "      <td>0</td>\n",
       "      <td>180</td>\n",
       "      <td>93</td>\n",
       "      <td>53</td>\n",
       "      <td>168</td>\n",
       "      <td>232</td>\n",
       "      <td>2</td>\n",
       "      <td>2</td>\n",
       "      <td>3</td>\n",
       "      <td>70</td>\n",
       "      <td>-1</td>\n",
       "      <td>1</td>\n",
       "      <td>0</td>\n",
       "      <td>0</td>\n",
       "      <td>0</td>\n",
       "      <td>1</td>\n",
       "      <td>0</td>\n",
       "      <td>0</td>\n",
       "    </tr>\n",
       "  </tbody>\n",
       "</table>\n",
       "</div>"
      ],
      "text/plain": [
       "   year  month  day_of_week opened_by location category subcategory u_symptom  \\\n",
       "0  2016      2            0         8      143       55         170        72   \n",
       "1  2016      2            0       397      165       40         215       471   \n",
       "2  2016      2            0         8      204       20         125       471   \n",
       "3  2016      2            0       180      204        9          97       450   \n",
       "4  2016      2            0       180       93       53         168       232   \n",
       "\n",
       "  impact urgency priority assignment_group assigned_to  knowledge  \\\n",
       "0      2       2        3               56          -1          1   \n",
       "1      2       2        3               70          89          1   \n",
       "2      2       2        3               70          -1          1   \n",
       "3      2       2        3               25         125          1   \n",
       "4      2       2        3               70          -1          1   \n",
       "\n",
       "   u_priority_confirmation  contact_type_Email  contact_type_IVR  \\\n",
       "0                        0                   0                 0   \n",
       "1                        0                   0                 0   \n",
       "2                        0                   0                 0   \n",
       "3                        0                   0                 0   \n",
       "4                        0                   0                 0   \n",
       "\n",
       "   contact_type_Phone  contact_type_Self service  notify_Send Email  \n",
       "0                   1                          0                  0  \n",
       "1                   1                          0                  0  \n",
       "2                   1                          0                  0  \n",
       "3                   1                          0                  0  \n",
       "4                   1                          0                  0  "
      ]
     },
     "execution_count": 34,
     "metadata": {},
     "output_type": "execute_result"
    }
   ],
   "source": [
    "train_dum_df = train_df.copy()\n",
    "\n",
    "dummies = pd.get_dummies(train_dum_df[['contact_type','notify']], drop_first=True, dtype=int)\n",
    "\n",
    "train_dum_df = train_dum_df.drop(['contact_type','notify'], axis = 1)\n",
    "\n",
    "train_dum_df = pd.concat([train_dum_df, dummies], axis=1)\n",
    "\n",
    "train_dum_df.head()"
   ]
  },
  {
   "cell_type": "code",
   "execution_count": 27,
   "metadata": {},
   "outputs": [
    {
     "data": {
      "text/plain": [
       "year\n",
       "2016    24769\n",
       "2017      149\n",
       "Name: count, dtype: int64"
      ]
     },
     "execution_count": 27,
     "metadata": {},
     "output_type": "execute_result"
    }
   ],
   "source": [
    "train_dum_df.value_counts('year')"
   ]
  },
  {
   "cell_type": "code",
   "execution_count": 35,
   "metadata": {},
   "outputs": [],
   "source": [
    "train_dum_df = train_dum_df.apply(lambda x: x.astype(int) if x.dtype == \"object\" else x)"
   ]
  },
  {
   "cell_type": "code",
   "execution_count": null,
   "metadata": {},
   "outputs": [],
   "source": [
    "train_dum_df.info()"
   ]
  },
  {
   "cell_type": "code",
   "execution_count": null,
   "metadata": {},
   "outputs": [],
   "source": [
    "df_new_active.columns"
   ]
  },
  {
   "cell_type": "code",
   "execution_count": 109,
   "metadata": {},
   "outputs": [
    {
     "data": {
      "text/plain": [
       "0"
      ]
     },
     "execution_count": 109,
     "metadata": {},
     "output_type": "execute_result"
    }
   ],
   "source": [
    "#checking for NaNs\n",
    "df_new_active['opened_at'].isnull().sum()\n"
   ]
  },
  {
   "cell_type": "code",
   "execution_count": null,
   "metadata": {},
   "outputs": [],
   "source": [
    "# Find the percentage of null values in each column\n",
    "df_nan.isna().sum()/len(df_nan)"
   ]
  },
  {
   "cell_type": "code",
   "execution_count": null,
   "metadata": {},
   "outputs": [],
   "source": [
    "columns_with_nan = df_nan.columns[df_nan.isna().any()].tolist()\n",
    "columns_with_nan"
   ]
  },
  {
   "cell_type": "code",
   "execution_count": 141,
   "metadata": {},
   "outputs": [],
   "source": [
    "#create empty dictionary to store stats tables for all nan columns\n",
    "nan_column_stats = {}\n",
    "\n",
    "#loop through each column in the list of columns with nan values\n",
    "for col in columns_with_nan:\n",
    "    #using the loc function to list the rows with Nan values in the particular column and calculate descpritive stats for all columns\n",
    "    nan_column_stats[col] = df_nan.loc[df_nan[col].isna()].describe(include='all')\n",
    "    pd.set_option('display.max_columns', None)"
   ]
  },
  {
   "cell_type": "code",
   "execution_count": null,
   "metadata": {},
   "outputs": [],
   "source": [
    "#display the stats for a specific column\n",
    "nan_column_stats['opened_by']\n",
    "\n",
    "nan_column_stats['assigned_to']\n",
    "\n",
    "nan_column_stats['assignment_group']\n",
    "\n",
    "nan_column_stats['u_symptom']\n",
    "\n",
    "nan_column_stats['subcategory']\n",
    "\n",
    "nan_column_stats['category']\n",
    "\n",
    "nan_column_stats['location']"
   ]
  },
  {
   "cell_type": "code",
   "execution_count": 34,
   "metadata": {},
   "outputs": [
    {
     "data": {
      "text/plain": [
       "target_colum\n",
       "1    102\n",
       "0     37\n",
       "Name: count, dtype: int64"
      ]
     },
     "execution_count": 34,
     "metadata": {},
     "output_type": "execute_result"
    }
   ],
   "source": [
    "# Awaiting User Info      133\n",
    "# Awaiting Problem          6\n",
    "df_awaiting = df_new_active.loc[\n",
    "    (df_new_active['incident_state'] == 'Awaiting User Info') | \n",
    "    (df_new_active['incident_state'] == 'Awaiting Problem')]\n",
    "df_awaiting\n",
    "df_awaiting.value_counts('target_colum')"
   ]
  },
  {
   "cell_type": "code",
   "execution_count": 35,
   "metadata": {},
   "outputs": [
    {
     "data": {
      "text/html": [
       "<div>\n",
       "<style scoped>\n",
       "    .dataframe tbody tr th:only-of-type {\n",
       "        vertical-align: middle;\n",
       "    }\n",
       "\n",
       "    .dataframe tbody tr th {\n",
       "        vertical-align: top;\n",
       "    }\n",
       "\n",
       "    .dataframe thead th {\n",
       "        text-align: right;\n",
       "    }\n",
       "</style>\n",
       "<table border=\"1\" class=\"dataframe\">\n",
       "  <thead>\n",
       "    <tr style=\"text-align: right;\">\n",
       "      <th></th>\n",
       "      <th>number</th>\n",
       "      <th>incident_state</th>\n",
       "      <th>active</th>\n",
       "      <th>reassignment_count</th>\n",
       "      <th>reopen_count</th>\n",
       "      <th>sys_mod_count</th>\n",
       "      <th>made_sla</th>\n",
       "      <th>caller_id</th>\n",
       "      <th>opened_by</th>\n",
       "      <th>opened_at</th>\n",
       "      <th>...</th>\n",
       "      <th>problem_id</th>\n",
       "      <th>rfc</th>\n",
       "      <th>vendor</th>\n",
       "      <th>caused_by</th>\n",
       "      <th>closed_code</th>\n",
       "      <th>resolved_by</th>\n",
       "      <th>resolved_at</th>\n",
       "      <th>closed_at</th>\n",
       "      <th>difference</th>\n",
       "      <th>target_colum</th>\n",
       "    </tr>\n",
       "  </thead>\n",
       "  <tbody>\n",
       "    <tr>\n",
       "      <th>1630</th>\n",
       "      <td>INC0002588</td>\n",
       "      <td>Active</td>\n",
       "      <td>True</td>\n",
       "      <td>0</td>\n",
       "      <td>0</td>\n",
       "      <td>0</td>\n",
       "      <td>False</td>\n",
       "      <td>Caller 3571</td>\n",
       "      <td>Opened by  325</td>\n",
       "      <td>2016-03-04 15:00:00</td>\n",
       "      <td>...</td>\n",
       "      <td>NaN</td>\n",
       "      <td>NaN</td>\n",
       "      <td>NaN</td>\n",
       "      <td>NaN</td>\n",
       "      <td>code 1</td>\n",
       "      <td>Resolved by 143</td>\n",
       "      <td>2016-03-11 10:38:00</td>\n",
       "      <td>2016-03-24 18:50:00</td>\n",
       "      <td>6.0</td>\n",
       "      <td>1</td>\n",
       "    </tr>\n",
       "  </tbody>\n",
       "</table>\n",
       "<p>1 rows × 38 columns</p>\n",
       "</div>"
      ],
      "text/plain": [
       "          number incident_state  active  reassignment_count  reopen_count  \\\n",
       "1630  INC0002588         Active    True                   0             0   \n",
       "\n",
       "      sys_mod_count  made_sla    caller_id       opened_by  \\\n",
       "1630              0     False  Caller 3571  Opened by  325   \n",
       "\n",
       "               opened_at  ... problem_id  rfc vendor caused_by closed_code  \\\n",
       "1630 2016-03-04 15:00:00  ...        NaN  NaN    NaN       NaN      code 1   \n",
       "\n",
       "          resolved_by         resolved_at           closed_at difference  \\\n",
       "1630  Resolved by 143 2016-03-11 10:38:00 2016-03-24 18:50:00        6.0   \n",
       "\n",
       "     target_colum  \n",
       "1630            1  \n",
       "\n",
       "[1 rows x 38 columns]"
      ]
     },
     "execution_count": 35,
     "metadata": {},
     "output_type": "execute_result"
    }
   ],
   "source": [
    "df_made_sla = df_new_active.loc[df_new_active['made_sla'] == False]\n",
    "df_made_sla"
   ]
  },
  {
   "cell_type": "code",
   "execution_count": 243,
   "metadata": {},
   "outputs": [
    {
     "data": {
      "text/plain": [
       "made_sla\n",
       "True     132497\n",
       "False      9215\n",
       "Name: count, dtype: int64"
      ]
     },
     "execution_count": 243,
     "metadata": {},
     "output_type": "execute_result"
    }
   ],
   "source": [
    "#shows a measurement of how many times they under performed in resolving the incident in the time specified in their contract with the client\n",
    "df_nan.value_counts('made_sla')\n",
    "#132497 / (9215+132497) * 100\n",
    "#9215 / (9215+132497) * 100\n",
    "\n"
   ]
  },
  {
   "cell_type": "code",
   "execution_count": null,
   "metadata": {},
   "outputs": [],
   "source": [
    "df_u_confirmation = df_new_active.loc[df_new_active['u_priority_confirmation'] == True]\n",
    "df_u_confirmation.head()"
   ]
  },
  {
   "cell_type": "code",
   "execution_count": null,
   "metadata": {},
   "outputs": [],
   "source": [
    "df_priotity = df_new_active.loc[df_new_active['priority'] == '1 - Critical']\n",
    "df_priotity\n",
    "\n"
   ]
  },
  {
   "cell_type": "code",
   "execution_count": null,
   "metadata": {},
   "outputs": [],
   "source": [
    "df_closed_code = df_new_active.loc[df_new_active['closed_code'] == 'code 7']\n",
    "df_closed_code"
   ]
  },
  {
   "cell_type": "code",
   "execution_count": null,
   "metadata": {},
   "outputs": [],
   "source": [
    "df_new_active['closed_code'].isna().count()"
   ]
  },
  {
   "cell_type": "code",
   "execution_count": null,
   "metadata": {},
   "outputs": [],
   "source": [
    "df_new_active[['opened_at', 'sys_updated_at']]"
   ]
  },
  {
   "cell_type": "code",
   "execution_count": null,
   "metadata": {},
   "outputs": [],
   "source": [
    "df_new_active.value_counts('closed_code')"
   ]
  },
  {
   "cell_type": "code",
   "execution_count": null,
   "metadata": {},
   "outputs": [],
   "source": [
    "df_new_active.loc[df_new_active['reopen_count'] == 1]"
   ]
  },
  {
   "cell_type": "code",
   "execution_count": null,
   "metadata": {},
   "outputs": [],
   "source": [
    "df_new_active.value_counts('reopen_count')\n"
   ]
  },
  {
   "cell_type": "code",
   "execution_count": null,
   "metadata": {},
   "outputs": [],
   "source": [
    "df_inc = df.loc[df['number'] == 'INC0011551']\n",
    "df_inc"
   ]
  },
  {
   "cell_type": "code",
   "execution_count": 120,
   "metadata": {},
   "outputs": [
    {
     "data": {
      "text/plain": [
       "\" 'sys_updated_at' , sys_mod_count& 'active' are the different columns\""
      ]
     },
     "execution_count": 120,
     "metadata": {},
     "output_type": "execute_result"
    }
   ],
   "source": [
    "df_inc0000093 = df_nan.loc[df_nan['number'] == 'INC0000093']\n",
    "df_inc0000093\n",
    "\"\"\" 'sys_updated_at' , sys_mod_count, & 'active' are the different columns\"\"\""
   ]
  },
  {
   "cell_type": "code",
   "execution_count": 36,
   "metadata": {},
   "outputs": [
    {
     "data": {
      "text/plain": [
       "target_colum\n",
       "1    1543\n",
       "0     273\n",
       "Name: count, dtype: int64"
      ]
     },
     "execution_count": 36,
     "metadata": {},
     "output_type": "execute_result"
    }
   ],
   "source": [
    "#looking a the incident state columns to check the values equal to Resolved that we couldnt filter out....\n",
    "df_resolved = df_new_active.loc[df_new_active['incident_state'] == 'Resolved']\n",
    "df_resolved.value_counts('target_colum')"
   ]
  },
  {
   "cell_type": "code",
   "execution_count": null,
   "metadata": {},
   "outputs": [],
   "source": [
    "df_resolved.columns"
   ]
  },
  {
   "cell_type": "code",
   "execution_count": null,
   "metadata": {},
   "outputs": [],
   "source": [
    "#df_nan['difference'] = (df_nan['resolved_at'] - df_nan['opened_at']).dt.days\n",
    "resovled_closed_diff = (df_resolved['closed_at'] - df_resolved['resolved_at']).dt.days\n",
    "resovled_closed_diff.value_counts()"
   ]
  },
  {
   "cell_type": "code",
   "execution_count": null,
   "metadata": {},
   "outputs": [],
   "source": [
    "#looking at number duplicates to see the differences\n",
    "df_inc0027738 = df_nan[df_nan['number'] == 'INC0027738']\n",
    "df_inc0027738"
   ]
  },
  {
   "cell_type": "code",
   "execution_count": null,
   "metadata": {},
   "outputs": [],
   "source": [
    "#isolating a specific number with the greatest amount of duplicates in the numbers columns to check the differences in the rest of the rows\n",
    "df_inc0019396 = df[df['number'] == 'INC0019396']\n",
    "display(df_inc0019396.head())\n",
    "display(df_inc0019396.tail())"
   ]
  },
  {
   "cell_type": "code",
   "execution_count": 158,
   "metadata": {},
   "outputs": [
    {
     "data": {
      "text/plain": [
       "active\n",
       "True    24918\n",
       "Name: count, dtype: int64"
      ]
     },
     "execution_count": 158,
     "metadata": {},
     "output_type": "execute_result"
    }
   ],
   "source": [
    "df_new_active.value_counts('active')"
   ]
  },
  {
   "cell_type": "code",
   "execution_count": 157,
   "metadata": {},
   "outputs": [
    {
     "data": {
      "text/plain": [
       "impact\n",
       "2 - Medium    23906\n",
       "3 - Low         726\n",
       "1 - High        286\n",
       "Name: count, dtype: int64"
      ]
     },
     "execution_count": 157,
     "metadata": {},
     "output_type": "execute_result"
    }
   ],
   "source": [
    "df_new_active.value_counts('impact')"
   ]
  },
  {
   "cell_type": "code",
   "execution_count": 36,
   "metadata": {},
   "outputs": [],
   "source": [
    "train_dum_y = pd.concat([train_dum_df, df_new_active['target_colum']], axis =1)"
   ]
  },
  {
   "cell_type": "code",
   "execution_count": 28,
   "metadata": {},
   "outputs": [
    {
     "data": {
      "text/plain": [
       "target_colum\n",
       "0    15095\n",
       "1     9823\n",
       "Name: count, dtype: int64"
      ]
     },
     "execution_count": 28,
     "metadata": {},
     "output_type": "execute_result"
    }
   ],
   "source": [
    "train_dum_y.value_counts('target_colum')"
   ]
  },
  {
   "cell_type": "code",
   "execution_count": 37,
   "metadata": {},
   "outputs": [
    {
     "data": {
      "text/plain": [
       "month                       -0.176935\n",
       "assignment_group            -0.134049\n",
       "u_symptom                   -0.060904\n",
       "subcategory                 -0.032497\n",
       "contact_type_Phone          -0.022780\n",
       "priority                    -0.011531\n",
       "urgency                     -0.011263\n",
       "u_priority_confirmation     -0.009278\n",
       "impact                      -0.004685\n",
       "location                    -0.004522\n",
       "year                        -0.001851\n",
       "contact_type_Self service    0.011820\n",
       "category                     0.015970\n",
       "contact_type_Email           0.018202\n",
       "contact_type_IVR             0.023563\n",
       "opened_by                    0.027801\n",
       "notify_Send Email            0.032017\n",
       "day_of_week                  0.059186\n",
       "assigned_to                  0.077285\n",
       "knowledge                    0.133509\n",
       "target_colum                 1.000000\n",
       "Name: target_colum, dtype: float64"
      ]
     },
     "execution_count": 37,
     "metadata": {},
     "output_type": "execute_result"
    }
   ],
   "source": [
    "#need to convert all strings to numbers before this code will work\n",
    "train_dum_y.corr()['target_colum'].sort_values()"
   ]
  },
  {
   "cell_type": "code",
   "execution_count": 38,
   "metadata": {},
   "outputs": [],
   "source": [
    "#set X and Ys\n",
    "X = train_dum_df\n",
    "y = df_new_active['target_colum']\n",
    "# Split the data into training and testing sets\n",
    "X_train, X_test, y_train, y_test = train_test_split(X, y, random_state=13) #try: ,test_size=.2)"
   ]
  },
  {
   "cell_type": "code",
   "execution_count": 39,
   "metadata": {},
   "outputs": [
    {
     "data": {
      "text/plain": [
       "target_colum\n",
       "0    11321\n",
       "1     7367\n",
       "Name: count, dtype: int64"
      ]
     },
     "execution_count": 39,
     "metadata": {},
     "output_type": "execute_result"
    }
   ],
   "source": [
    "y_train.value_counts()"
   ]
  },
  {
   "cell_type": "code",
   "execution_count": 45,
   "metadata": {},
   "outputs": [],
   "source": [
    "# Initialize the oversampler\n",
    "oversampler = RandomOverSampler(random_state=13)\n",
    "\n",
    "# Apply sampling on the training data\n",
    "X_train_resampled, y_train_resampled = oversampler.fit_resample(X_train, y_train)\n",
    "\n"
   ]
  },
  {
   "cell_type": "code",
   "execution_count": 69,
   "metadata": {},
   "outputs": [],
   "source": [
    "#using SMOTE random sampler\n",
    "smote = SMOTE(random_state=13)\n",
    "\n",
    "#apply sampling on the training data \n",
    "X_smote, y_smote = smote.fit_resample(X_train, y_train)\n",
    "\n",
    "\n",
    "# Using SMOTEENN\n",
    "smoteenn = SMOTEENN(random_state=13)\n",
    "X_teen, y_teen = smoteenn.fit_resample(X_train, y_train)\n"
   ]
  },
  {
   "cell_type": "code",
   "execution_count": 70,
   "metadata": {},
   "outputs": [],
   "source": [
    "\"\"\" I dont believe we need to scale our data, initial tests indicates that we loose accuracy \"\"\"\n",
    "\n",
    "# Initialize the scaler\n",
    "scaler = StandardScaler()\n",
    "\n",
    "# Fit the scaler on the training data and transform both training and test data\n",
    "X_train_resampled_scaled = scaler.fit_transform(X_smote)\n",
    "X_test_scaled = scaler.transform(X_test)"
   ]
  },
  {
   "cell_type": "code",
   "execution_count": 71,
   "metadata": {},
   "outputs": [
    {
     "data": {
      "text/html": [
       "<style>#sk-container-id-5 {\n",
       "  /* Definition of color scheme common for light and dark mode */\n",
       "  --sklearn-color-text: black;\n",
       "  --sklearn-color-line: gray;\n",
       "  /* Definition of color scheme for unfitted estimators */\n",
       "  --sklearn-color-unfitted-level-0: #fff5e6;\n",
       "  --sklearn-color-unfitted-level-1: #f6e4d2;\n",
       "  --sklearn-color-unfitted-level-2: #ffe0b3;\n",
       "  --sklearn-color-unfitted-level-3: chocolate;\n",
       "  /* Definition of color scheme for fitted estimators */\n",
       "  --sklearn-color-fitted-level-0: #f0f8ff;\n",
       "  --sklearn-color-fitted-level-1: #d4ebff;\n",
       "  --sklearn-color-fitted-level-2: #b3dbfd;\n",
       "  --sklearn-color-fitted-level-3: cornflowerblue;\n",
       "\n",
       "  /* Specific color for light theme */\n",
       "  --sklearn-color-text-on-default-background: var(--sg-text-color, var(--theme-code-foreground, var(--jp-content-font-color1, black)));\n",
       "  --sklearn-color-background: var(--sg-background-color, var(--theme-background, var(--jp-layout-color0, white)));\n",
       "  --sklearn-color-border-box: var(--sg-text-color, var(--theme-code-foreground, var(--jp-content-font-color1, black)));\n",
       "  --sklearn-color-icon: #696969;\n",
       "\n",
       "  @media (prefers-color-scheme: dark) {\n",
       "    /* Redefinition of color scheme for dark theme */\n",
       "    --sklearn-color-text-on-default-background: var(--sg-text-color, var(--theme-code-foreground, var(--jp-content-font-color1, white)));\n",
       "    --sklearn-color-background: var(--sg-background-color, var(--theme-background, var(--jp-layout-color0, #111)));\n",
       "    --sklearn-color-border-box: var(--sg-text-color, var(--theme-code-foreground, var(--jp-content-font-color1, white)));\n",
       "    --sklearn-color-icon: #878787;\n",
       "  }\n",
       "}\n",
       "\n",
       "#sk-container-id-5 {\n",
       "  color: var(--sklearn-color-text);\n",
       "}\n",
       "\n",
       "#sk-container-id-5 pre {\n",
       "  padding: 0;\n",
       "}\n",
       "\n",
       "#sk-container-id-5 input.sk-hidden--visually {\n",
       "  border: 0;\n",
       "  clip: rect(1px 1px 1px 1px);\n",
       "  clip: rect(1px, 1px, 1px, 1px);\n",
       "  height: 1px;\n",
       "  margin: -1px;\n",
       "  overflow: hidden;\n",
       "  padding: 0;\n",
       "  position: absolute;\n",
       "  width: 1px;\n",
       "}\n",
       "\n",
       "#sk-container-id-5 div.sk-dashed-wrapped {\n",
       "  border: 1px dashed var(--sklearn-color-line);\n",
       "  margin: 0 0.4em 0.5em 0.4em;\n",
       "  box-sizing: border-box;\n",
       "  padding-bottom: 0.4em;\n",
       "  background-color: var(--sklearn-color-background);\n",
       "}\n",
       "\n",
       "#sk-container-id-5 div.sk-container {\n",
       "  /* jupyter's `normalize.less` sets `[hidden] { display: none; }`\n",
       "     but bootstrap.min.css set `[hidden] { display: none !important; }`\n",
       "     so we also need the `!important` here to be able to override the\n",
       "     default hidden behavior on the sphinx rendered scikit-learn.org.\n",
       "     See: https://github.com/scikit-learn/scikit-learn/issues/21755 */\n",
       "  display: inline-block !important;\n",
       "  position: relative;\n",
       "}\n",
       "\n",
       "#sk-container-id-5 div.sk-text-repr-fallback {\n",
       "  display: none;\n",
       "}\n",
       "\n",
       "div.sk-parallel-item,\n",
       "div.sk-serial,\n",
       "div.sk-item {\n",
       "  /* draw centered vertical line to link estimators */\n",
       "  background-image: linear-gradient(var(--sklearn-color-text-on-default-background), var(--sklearn-color-text-on-default-background));\n",
       "  background-size: 2px 100%;\n",
       "  background-repeat: no-repeat;\n",
       "  background-position: center center;\n",
       "}\n",
       "\n",
       "/* Parallel-specific style estimator block */\n",
       "\n",
       "#sk-container-id-5 div.sk-parallel-item::after {\n",
       "  content: \"\";\n",
       "  width: 100%;\n",
       "  border-bottom: 2px solid var(--sklearn-color-text-on-default-background);\n",
       "  flex-grow: 1;\n",
       "}\n",
       "\n",
       "#sk-container-id-5 div.sk-parallel {\n",
       "  display: flex;\n",
       "  align-items: stretch;\n",
       "  justify-content: center;\n",
       "  background-color: var(--sklearn-color-background);\n",
       "  position: relative;\n",
       "}\n",
       "\n",
       "#sk-container-id-5 div.sk-parallel-item {\n",
       "  display: flex;\n",
       "  flex-direction: column;\n",
       "}\n",
       "\n",
       "#sk-container-id-5 div.sk-parallel-item:first-child::after {\n",
       "  align-self: flex-end;\n",
       "  width: 50%;\n",
       "}\n",
       "\n",
       "#sk-container-id-5 div.sk-parallel-item:last-child::after {\n",
       "  align-self: flex-start;\n",
       "  width: 50%;\n",
       "}\n",
       "\n",
       "#sk-container-id-5 div.sk-parallel-item:only-child::after {\n",
       "  width: 0;\n",
       "}\n",
       "\n",
       "/* Serial-specific style estimator block */\n",
       "\n",
       "#sk-container-id-5 div.sk-serial {\n",
       "  display: flex;\n",
       "  flex-direction: column;\n",
       "  align-items: center;\n",
       "  background-color: var(--sklearn-color-background);\n",
       "  padding-right: 1em;\n",
       "  padding-left: 1em;\n",
       "}\n",
       "\n",
       "\n",
       "/* Toggleable style: style used for estimator/Pipeline/ColumnTransformer box that is\n",
       "clickable and can be expanded/collapsed.\n",
       "- Pipeline and ColumnTransformer use this feature and define the default style\n",
       "- Estimators will overwrite some part of the style using the `sk-estimator` class\n",
       "*/\n",
       "\n",
       "/* Pipeline and ColumnTransformer style (default) */\n",
       "\n",
       "#sk-container-id-5 div.sk-toggleable {\n",
       "  /* Default theme specific background. It is overwritten whether we have a\n",
       "  specific estimator or a Pipeline/ColumnTransformer */\n",
       "  background-color: var(--sklearn-color-background);\n",
       "}\n",
       "\n",
       "/* Toggleable label */\n",
       "#sk-container-id-5 label.sk-toggleable__label {\n",
       "  cursor: pointer;\n",
       "  display: block;\n",
       "  width: 100%;\n",
       "  margin-bottom: 0;\n",
       "  padding: 0.5em;\n",
       "  box-sizing: border-box;\n",
       "  text-align: center;\n",
       "}\n",
       "\n",
       "#sk-container-id-5 label.sk-toggleable__label-arrow:before {\n",
       "  /* Arrow on the left of the label */\n",
       "  content: \"▸\";\n",
       "  float: left;\n",
       "  margin-right: 0.25em;\n",
       "  color: var(--sklearn-color-icon);\n",
       "}\n",
       "\n",
       "#sk-container-id-5 label.sk-toggleable__label-arrow:hover:before {\n",
       "  color: var(--sklearn-color-text);\n",
       "}\n",
       "\n",
       "/* Toggleable content - dropdown */\n",
       "\n",
       "#sk-container-id-5 div.sk-toggleable__content {\n",
       "  max-height: 0;\n",
       "  max-width: 0;\n",
       "  overflow: hidden;\n",
       "  text-align: left;\n",
       "  /* unfitted */\n",
       "  background-color: var(--sklearn-color-unfitted-level-0);\n",
       "}\n",
       "\n",
       "#sk-container-id-5 div.sk-toggleable__content.fitted {\n",
       "  /* fitted */\n",
       "  background-color: var(--sklearn-color-fitted-level-0);\n",
       "}\n",
       "\n",
       "#sk-container-id-5 div.sk-toggleable__content pre {\n",
       "  margin: 0.2em;\n",
       "  border-radius: 0.25em;\n",
       "  color: var(--sklearn-color-text);\n",
       "  /* unfitted */\n",
       "  background-color: var(--sklearn-color-unfitted-level-0);\n",
       "}\n",
       "\n",
       "#sk-container-id-5 div.sk-toggleable__content.fitted pre {\n",
       "  /* unfitted */\n",
       "  background-color: var(--sklearn-color-fitted-level-0);\n",
       "}\n",
       "\n",
       "#sk-container-id-5 input.sk-toggleable__control:checked~div.sk-toggleable__content {\n",
       "  /* Expand drop-down */\n",
       "  max-height: 200px;\n",
       "  max-width: 100%;\n",
       "  overflow: auto;\n",
       "}\n",
       "\n",
       "#sk-container-id-5 input.sk-toggleable__control:checked~label.sk-toggleable__label-arrow:before {\n",
       "  content: \"▾\";\n",
       "}\n",
       "\n",
       "/* Pipeline/ColumnTransformer-specific style */\n",
       "\n",
       "#sk-container-id-5 div.sk-label input.sk-toggleable__control:checked~label.sk-toggleable__label {\n",
       "  color: var(--sklearn-color-text);\n",
       "  background-color: var(--sklearn-color-unfitted-level-2);\n",
       "}\n",
       "\n",
       "#sk-container-id-5 div.sk-label.fitted input.sk-toggleable__control:checked~label.sk-toggleable__label {\n",
       "  background-color: var(--sklearn-color-fitted-level-2);\n",
       "}\n",
       "\n",
       "/* Estimator-specific style */\n",
       "\n",
       "/* Colorize estimator box */\n",
       "#sk-container-id-5 div.sk-estimator input.sk-toggleable__control:checked~label.sk-toggleable__label {\n",
       "  /* unfitted */\n",
       "  background-color: var(--sklearn-color-unfitted-level-2);\n",
       "}\n",
       "\n",
       "#sk-container-id-5 div.sk-estimator.fitted input.sk-toggleable__control:checked~label.sk-toggleable__label {\n",
       "  /* fitted */\n",
       "  background-color: var(--sklearn-color-fitted-level-2);\n",
       "}\n",
       "\n",
       "#sk-container-id-5 div.sk-label label.sk-toggleable__label,\n",
       "#sk-container-id-5 div.sk-label label {\n",
       "  /* The background is the default theme color */\n",
       "  color: var(--sklearn-color-text-on-default-background);\n",
       "}\n",
       "\n",
       "/* On hover, darken the color of the background */\n",
       "#sk-container-id-5 div.sk-label:hover label.sk-toggleable__label {\n",
       "  color: var(--sklearn-color-text);\n",
       "  background-color: var(--sklearn-color-unfitted-level-2);\n",
       "}\n",
       "\n",
       "/* Label box, darken color on hover, fitted */\n",
       "#sk-container-id-5 div.sk-label.fitted:hover label.sk-toggleable__label.fitted {\n",
       "  color: var(--sklearn-color-text);\n",
       "  background-color: var(--sklearn-color-fitted-level-2);\n",
       "}\n",
       "\n",
       "/* Estimator label */\n",
       "\n",
       "#sk-container-id-5 div.sk-label label {\n",
       "  font-family: monospace;\n",
       "  font-weight: bold;\n",
       "  display: inline-block;\n",
       "  line-height: 1.2em;\n",
       "}\n",
       "\n",
       "#sk-container-id-5 div.sk-label-container {\n",
       "  text-align: center;\n",
       "}\n",
       "\n",
       "/* Estimator-specific */\n",
       "#sk-container-id-5 div.sk-estimator {\n",
       "  font-family: monospace;\n",
       "  border: 1px dotted var(--sklearn-color-border-box);\n",
       "  border-radius: 0.25em;\n",
       "  box-sizing: border-box;\n",
       "  margin-bottom: 0.5em;\n",
       "  /* unfitted */\n",
       "  background-color: var(--sklearn-color-unfitted-level-0);\n",
       "}\n",
       "\n",
       "#sk-container-id-5 div.sk-estimator.fitted {\n",
       "  /* fitted */\n",
       "  background-color: var(--sklearn-color-fitted-level-0);\n",
       "}\n",
       "\n",
       "/* on hover */\n",
       "#sk-container-id-5 div.sk-estimator:hover {\n",
       "  /* unfitted */\n",
       "  background-color: var(--sklearn-color-unfitted-level-2);\n",
       "}\n",
       "\n",
       "#sk-container-id-5 div.sk-estimator.fitted:hover {\n",
       "  /* fitted */\n",
       "  background-color: var(--sklearn-color-fitted-level-2);\n",
       "}\n",
       "\n",
       "/* Specification for estimator info (e.g. \"i\" and \"?\") */\n",
       "\n",
       "/* Common style for \"i\" and \"?\" */\n",
       "\n",
       ".sk-estimator-doc-link,\n",
       "a:link.sk-estimator-doc-link,\n",
       "a:visited.sk-estimator-doc-link {\n",
       "  float: right;\n",
       "  font-size: smaller;\n",
       "  line-height: 1em;\n",
       "  font-family: monospace;\n",
       "  background-color: var(--sklearn-color-background);\n",
       "  border-radius: 1em;\n",
       "  height: 1em;\n",
       "  width: 1em;\n",
       "  text-decoration: none !important;\n",
       "  margin-left: 1ex;\n",
       "  /* unfitted */\n",
       "  border: var(--sklearn-color-unfitted-level-1) 1pt solid;\n",
       "  color: var(--sklearn-color-unfitted-level-1);\n",
       "}\n",
       "\n",
       ".sk-estimator-doc-link.fitted,\n",
       "a:link.sk-estimator-doc-link.fitted,\n",
       "a:visited.sk-estimator-doc-link.fitted {\n",
       "  /* fitted */\n",
       "  border: var(--sklearn-color-fitted-level-1) 1pt solid;\n",
       "  color: var(--sklearn-color-fitted-level-1);\n",
       "}\n",
       "\n",
       "/* On hover */\n",
       "div.sk-estimator:hover .sk-estimator-doc-link:hover,\n",
       ".sk-estimator-doc-link:hover,\n",
       "div.sk-label-container:hover .sk-estimator-doc-link:hover,\n",
       ".sk-estimator-doc-link:hover {\n",
       "  /* unfitted */\n",
       "  background-color: var(--sklearn-color-unfitted-level-3);\n",
       "  color: var(--sklearn-color-background);\n",
       "  text-decoration: none;\n",
       "}\n",
       "\n",
       "div.sk-estimator.fitted:hover .sk-estimator-doc-link.fitted:hover,\n",
       ".sk-estimator-doc-link.fitted:hover,\n",
       "div.sk-label-container:hover .sk-estimator-doc-link.fitted:hover,\n",
       ".sk-estimator-doc-link.fitted:hover {\n",
       "  /* fitted */\n",
       "  background-color: var(--sklearn-color-fitted-level-3);\n",
       "  color: var(--sklearn-color-background);\n",
       "  text-decoration: none;\n",
       "}\n",
       "\n",
       "/* Span, style for the box shown on hovering the info icon */\n",
       ".sk-estimator-doc-link span {\n",
       "  display: none;\n",
       "  z-index: 9999;\n",
       "  position: relative;\n",
       "  font-weight: normal;\n",
       "  right: .2ex;\n",
       "  padding: .5ex;\n",
       "  margin: .5ex;\n",
       "  width: min-content;\n",
       "  min-width: 20ex;\n",
       "  max-width: 50ex;\n",
       "  color: var(--sklearn-color-text);\n",
       "  box-shadow: 2pt 2pt 4pt #999;\n",
       "  /* unfitted */\n",
       "  background: var(--sklearn-color-unfitted-level-0);\n",
       "  border: .5pt solid var(--sklearn-color-unfitted-level-3);\n",
       "}\n",
       "\n",
       ".sk-estimator-doc-link.fitted span {\n",
       "  /* fitted */\n",
       "  background: var(--sklearn-color-fitted-level-0);\n",
       "  border: var(--sklearn-color-fitted-level-3);\n",
       "}\n",
       "\n",
       ".sk-estimator-doc-link:hover span {\n",
       "  display: block;\n",
       "}\n",
       "\n",
       "/* \"?\"-specific style due to the `<a>` HTML tag */\n",
       "\n",
       "#sk-container-id-5 a.estimator_doc_link {\n",
       "  float: right;\n",
       "  font-size: 1rem;\n",
       "  line-height: 1em;\n",
       "  font-family: monospace;\n",
       "  background-color: var(--sklearn-color-background);\n",
       "  border-radius: 1rem;\n",
       "  height: 1rem;\n",
       "  width: 1rem;\n",
       "  text-decoration: none;\n",
       "  /* unfitted */\n",
       "  color: var(--sklearn-color-unfitted-level-1);\n",
       "  border: var(--sklearn-color-unfitted-level-1) 1pt solid;\n",
       "}\n",
       "\n",
       "#sk-container-id-5 a.estimator_doc_link.fitted {\n",
       "  /* fitted */\n",
       "  border: var(--sklearn-color-fitted-level-1) 1pt solid;\n",
       "  color: var(--sklearn-color-fitted-level-1);\n",
       "}\n",
       "\n",
       "/* On hover */\n",
       "#sk-container-id-5 a.estimator_doc_link:hover {\n",
       "  /* unfitted */\n",
       "  background-color: var(--sklearn-color-unfitted-level-3);\n",
       "  color: var(--sklearn-color-background);\n",
       "  text-decoration: none;\n",
       "}\n",
       "\n",
       "#sk-container-id-5 a.estimator_doc_link.fitted:hover {\n",
       "  /* fitted */\n",
       "  background-color: var(--sklearn-color-fitted-level-3);\n",
       "}\n",
       "</style><div id=\"sk-container-id-5\" class=\"sk-top-container\"><div class=\"sk-text-repr-fallback\"><pre>RandomForestClassifier(random_state=13)</pre><b>In a Jupyter environment, please rerun this cell to show the HTML representation or trust the notebook. <br />On GitHub, the HTML representation is unable to render, please try loading this page with nbviewer.org.</b></div><div class=\"sk-container\" hidden><div class=\"sk-item\"><div class=\"sk-estimator fitted sk-toggleable\"><input class=\"sk-toggleable__control sk-hidden--visually\" id=\"sk-estimator-id-5\" type=\"checkbox\" checked><label for=\"sk-estimator-id-5\" class=\"sk-toggleable__label fitted sk-toggleable__label-arrow fitted\">&nbsp;&nbsp;RandomForestClassifier<a class=\"sk-estimator-doc-link fitted\" rel=\"noreferrer\" target=\"_blank\" href=\"https://scikit-learn.org/1.4/modules/generated/sklearn.ensemble.RandomForestClassifier.html\">?<span>Documentation for RandomForestClassifier</span></a><span class=\"sk-estimator-doc-link fitted\">i<span>Fitted</span></span></label><div class=\"sk-toggleable__content fitted\"><pre>RandomForestClassifier(random_state=13)</pre></div> </div></div></div></div>"
      ],
      "text/plain": [
       "RandomForestClassifier(random_state=13)"
      ]
     },
     "execution_count": 71,
     "metadata": {},
     "output_type": "execute_result"
    }
   ],
   "source": [
    "# Create and train a random forest model\n",
    "model = RandomForestClassifier(random_state=13)\n",
    "model.fit(X_train_resampled_scaled, y_smote)"
   ]
  },
  {
   "cell_type": "code",
   "execution_count": 72,
   "metadata": {},
   "outputs": [
    {
     "data": {
      "text/plain": [
       "target_colum\n",
       "0    3774\n",
       "1    2456\n",
       "Name: count, dtype: int64"
      ]
     },
     "execution_count": 72,
     "metadata": {},
     "output_type": "execute_result"
    }
   ],
   "source": [
    "y_test.value_counts()"
   ]
  },
  {
   "cell_type": "code",
   "execution_count": 54,
   "metadata": {},
   "outputs": [
    {
     "data": {
      "text/plain": [
       "target_colum\n",
       "0    4847\n",
       "1    4813\n",
       "Name: count, dtype: int64"
      ]
     },
     "execution_count": 54,
     "metadata": {},
     "output_type": "execute_result"
    }
   ],
   "source": [
    "y_teen.value_counts()"
   ]
  },
  {
   "cell_type": "code",
   "execution_count": 73,
   "metadata": {},
   "outputs": [
    {
     "name": "stdout",
     "output_type": "stream",
     "text": [
      "0.7200972408507377\n"
     ]
    }
   ],
   "source": [
    "# Check the model's balanced accuracy on the test set\n",
    "y_pred = model.predict(X_test_scaled)\n",
    "print(balanced_accuracy_score(y_test, y_pred))"
   ]
  },
  {
   "cell_type": "markdown",
   "metadata": {},
   "source": [
    "balanced accuracy w/out problem id: 0.6861308041131762\n",
    "balanced accuracy w/ problem id :0.683028508964991\n",
    "added: month, year, day_of_week: 0.7147417224659034\n",
    "added: day, hour, minute: 0.7094933360261968 (dropped)\n",
    "dropped year: 0.7135493536264756 (adding year back)\n",
    "over-sampled: 0.7218452285395187\n",
    "scaled: 0.7209695085006447\n",
    "smote no scaled: 0.7209632510456423   w/ scaler: 0.7200972408507377\n",
    "smoteen no scaled: 0.7096613163268652\n",
    "\n",
    "\n"
   ]
  },
  {
   "cell_type": "code",
   "execution_count": 74,
   "metadata": {},
   "outputs": [
    {
     "data": {
      "text/plain": [
       "0.7295345104333868"
      ]
     },
     "metadata": {},
     "output_type": "display_data"
    },
    {
     "data": {
      "text/plain": [
       "'Training Score: 0.9889144068545181'"
      ]
     },
     "metadata": {},
     "output_type": "display_data"
    },
    {
     "data": {
      "text/plain": [
       "'Testing Score: 0.7295345104333868'"
      ]
     },
     "metadata": {},
     "output_type": "display_data"
    }
   ],
   "source": [
    "# Calculate the accuracy score\n",
    "acc_score = accuracy_score(y_test, y_pred)\n",
    "display(acc_score)\n",
    "\n",
    "# Evaluate the model\n",
    "display(f'Training Score: {model.score(X_train_resampled_scaled, y_smote)}')\n",
    "display(f'Testing Score: {model.score(X_test_scaled, y_test)}')"
   ]
  },
  {
   "cell_type": "markdown",
   "metadata": {},
   "source": [
    "w/out problem id:\n",
    "accuracy_score/ testing score : 0.7069020866773675\n",
    "Training Score: 0.9542487157534246\n",
    "\n",
    "w/ problem_id: \n",
    "accuracy_score/Testing scoree: 0.7052969502407704\n",
    "Training Score: 0.954355736301369\n",
    "\n",
    "added: month, year, day_of_week:\n",
    "accuracy_score/Testing scoree: 0.7357945425361155    \n",
    "Training Score: 0.9875321061643836\n",
    "\n",
    "added: day, hour, minute: (dropped)\n",
    "Training Score: 0.9998394691780822\n",
    "Testing Score: 0.7367576243980738'\n",
    "\n",
    "dropped Year:(adding back)\n",
    "Training Score: 0.9875321061643836\n",
    "Testing Score: 0.7343499197431782\n",
    "\n",
    "overSampled: \n",
    "Training Score: 0.9888702411447752\n",
    "Testing Score: 0.7335473515248796\n",
    "\n",
    "scaled:\n",
    "'Training Score: 0.9888702411447752'\n",
    "'Testing Score: 0.7327447833065811\n",
    "\n",
    "smote no scaled:                                w/ scaler:\n",
    "'Training Score: 0.9889144068545181'            Training Score: 0.9889144068545181'\n",
    "'Testing Score: 0.730497592295345'              'Testing Score: 0.7295345104333868\n",
    "\n",
    "Training Score: 1.0'\n",
    "'Testing Score: 0.702247191011236'"
   ]
  },
  {
   "cell_type": "code",
   "execution_count": 66,
   "metadata": {},
   "outputs": [
    {
     "name": "stdout",
     "output_type": "stream",
     "text": [
      "              precision    recall  f1-score   support\n",
      "\n",
      "           0       0.67      0.80      0.73      3173\n",
      "           1       0.74      0.60      0.66      3057\n",
      "\n",
      "    accuracy                           0.70      6230\n",
      "   macro avg       0.71      0.70      0.70      6230\n",
      "weighted avg       0.71      0.70      0.70      6230\n",
      "\n"
     ]
    }
   ],
   "source": [
    "print(classification_report(y_pred, y_test))"
   ]
  },
  {
   "cell_type": "markdown",
   "metadata": {},
   "source": [
    "             W/out problem_id\n",
    "              precision    recall  f1-score   support\n",
    "\n",
    "           0       0.78      0.75      0.76      3972\n",
    "           1       0.59      0.64      0.61      2258\n",
    "\n",
    "    accuracy                           0.71      6230\n",
    "   macro avg       0.69      0.69      0.69      6230\n",
    "weighted avg       0.71      0.71      0.71      6230\n",
    "\n",
    "W/ problem id\n",
    "\n",
    "precision    recall  f1-score   support\n",
    "\n",
    "           0       0.79      0.74      0.76      4012\n",
    "           1       0.58      0.64      0.61      2218\n",
    "\n",
    "    accuracy                           0.71      6230\n",
    "   macro avg       0.68      0.69      0.69      6230\n",
    "weighted avg       0.71      0.71      0.71      6230\n",
    "\n",
    "added: month, year, day_of_week:\n",
    "\n",
    "              precision    recall  f1-score   support\n",
    "\n",
    "           0       0.81      0.76      0.79      4018\n",
    "           1       0.62      0.68      0.65      2212\n",
    "\n",
    "    accuracy                           0.74      6230\n",
    "   macro avg       0.71      0.72      0.72      6230\n",
    "weighted avg       0.74      0.74      0.74      6230\n",
    "\n",
    "dropped year: (adding back )\n",
    "              precision    recall  f1-score   support\n",
    "\n",
    "           0       0.81      0.76      0.79      4018\n",
    "           1       0.62      0.68      0.65      2212\n",
    "\n",
    "    accuracy                           0.74      6230\n",
    "   macro avg       0.71      0.72      0.72      6230\n",
    "weighted avg       0.74      0.74      0.74      6230\n",
    "\n",
    "oversampled:\n",
    "              precision    recall  f1-score   support\n",
    "\n",
    "           0       0.78      0.78      0.78      3752\n",
    "           1       0.67      0.66      0.66      2478\n",
    "\n",
    "    accuracy                           0.73      6230\n",
    "   macro avg       0.72      0.72      0.72      6230\n",
    "weighted avg       0.73      0.73      0.73      6230\n",
    "\n",
    "scaled:\n",
    "              precision    recall  f1-score   support\n",
    "\n",
    "           0       0.78      0.78      0.78      3753\n",
    "           1       0.67      0.66      0.66      2477\n",
    "\n",
    "    accuracy                           0.73      6230\n",
    "   macro avg       0.72      0.72      0.72      6230\n",
    "weighted avg       0.73      0.73      0.73      6230\n",
    "\n",
    "\n",
    "smote no scaled:\n",
    "              precision    recall  f1-score   support\n",
    "\n",
    "           0       0.77      0.78      0.77      3687\n",
    "           1       0.68      0.65      0.66      2543\n",
    "\n",
    "    accuracy                           0.73      6230\n",
    "   macro avg       0.72      0.72      0.72      6230\n",
    "weighted avg       0.73      0.73      0.73      6230\n",
    "\n",
    "\n",
    "smoteen no scale:\n",
    "              precision    recall  f1-score   support\n",
    "\n",
    "           0       0.67      0.80      0.73      3173\n",
    "           1       0.74      0.60      0.66      3057\n",
    "\n",
    "    accuracy                           0.70      6230\n",
    "   macro avg       0.71      0.70      0.70      6230\n",
    "weighted avg       0.71      0.70      0.70      6230\n",
    "\n",
    "\n",
    "\n",
    "\n",
    "\n"
   ]
  },
  {
   "cell_type": "code",
   "execution_count": 250,
   "metadata": {},
   "outputs": [
    {
     "data": {
      "text/plain": [
       "[(0.156583445921838, 'assigned_to'),\n",
       " (0.13925179829349377, 'opened_by'),\n",
       " (0.13048210792097367, 'location'),\n",
       " (0.09906060245892599, 'assignment_group'),\n",
       " (0.0916007382041744, 'subcategory'),\n",
       " (0.09109702914562731, 'u_symptom'),\n",
       " (0.09029526986213622, 'day_of_week'),\n",
       " (0.08857259556064916, 'category'),\n",
       " (0.07477014938851502, 'month'),\n",
       " (0.012239770454594462, 'knowledge'),\n",
       " (0.007156425245039579, 'priority'),\n",
       " (0.005594975166029722, 'urgency'),\n",
       " (0.005492222433056759, 'impact'),\n",
       " (0.0037409636270688954, 'problem_id'),\n",
       " (0.0012926550998119165, 'contact_type_Phone')]"
      ]
     },
     "execution_count": 250,
     "metadata": {},
     "output_type": "execute_result"
    }
   ],
   "source": [
    "# Get the feature importance array\n",
    "importances = model.feature_importances_\n",
    "# List the top 10 most important features\n",
    "importances_sorted = sorted(zip(model.feature_importances_, X.columns), reverse=True)\n",
    "importances_sorted[:15]"
   ]
  },
  {
   "cell_type": "code",
   "execution_count": 40,
   "metadata": {},
   "outputs": [],
   "source": [
    "# Try the following values for max_depth\n",
    "\n",
    "max_depths = range(1, 10)\n",
    "models = {'train_score': [], 'test_score': [], 'max_depth': []}\n",
    "\n",
    "# Loop through each value in max_depths\n",
    "for depth in max_depths:\n",
    "    clf = RandomForestClassifier(max_depth = depth)\n",
    "    clf.fit(X_train, y_train)\n",
    "\n",
    "    train_pred = clf.predict(X_train)\n",
    "    test_pred = clf.predict(X_test)\n",
    "\n",
    "    train_score = balanced_accuracy_score(y_train, train_pred)\n",
    "    test_score = balanced_accuracy_score(y_test, test_pred)\n",
    "\n",
    "    models['train_score'].append(train_score)\n",
    "    models['test_score'].append(test_score)\n",
    "    models['max_depth'].append(depth)\n",
    "\n",
    "# Create a dataframe from the models dictionary with max_depth as the index\n",
    "models_df = pd.DataFrame(models).set_index('max_depth')"
   ]
  },
  {
   "cell_type": "code",
   "execution_count": 41,
   "metadata": {},
   "outputs": [
    {
     "data": {
      "text/plain": [
       "<Axes: xlabel='max_depth'>"
      ]
     },
     "execution_count": 41,
     "metadata": {},
     "output_type": "execute_result"
    },
    {
     "data": {
      "image/png": "[encoded data removed]",
      "text/plain": [
       "<Figure size 640x480 with 1 Axes>"
      ]
     },
     "metadata": {},
     "output_type": "display_data"
    }
   ],
   "source": [
    "# Plot the results\n",
    "models_df.plot()"
   ]
  },
  {
   "cell_type": "code",
   "execution_count": 257,
   "metadata": {},
   "outputs": [
    {
     "name": "stdout",
     "output_type": "stream",
     "text": [
      "Fitting 10 folds for each of 100 candidates, totalling 1000 fits\n",
      "Best Parameters: {'n_estimators': 400, 'min_samples_split': 6, 'min_samples_leaf': 1, 'max_features': 'sqrt', 'max_depth': None, 'class_weight': 'balanced', 'bootstrap': False}\n",
      "Best Score: 0.8190560100299713\n"
     ]
    }
   ],
   "source": [
    "param_grid = {\n",
    "    'n_estimators': [100, 200, 400, 600, 800],\n",
    "    'max_depth': [3,5,6,7,None],\n",
    "    'min_samples_split': [2,4,6,8,10],\n",
    "    'min_samples_leaf': [1,2,4,6,8],\n",
    "    'max_features': ['sqrt', 'log2', None],\n",
    "    'bootstrap': [True, False],\n",
    "    'class_weight': ['balanced', 'balanced_subsample', None]\n",
    "}\n",
    "\n",
    "\n",
    "# Create the RandomForestClassifier model\n",
    "rf_model = RandomForestClassifier(random_state=13)\n",
    "\n",
    "\n",
    "#feature selection:\n",
    "selector = SelectFromModel(estimator=RandomForestClassifier(n_estimators=100, random_state=13))\n",
    "X_train_selected = selector.fit_transform(X_train_resampled, y_train_resampled)\n",
    "X_test_selected = selector.transform(X_test)\n",
    "\n",
    "random_search = RandomizedSearchCV(estimator=rf_model, param_distributions=param_grid, \n",
    "                                   n_iter=100, cv=10, n_jobs=-1, verbose=3, random_state=13, scoring = 'balanced_accuracy')\n",
    "\n",
    "\n",
    "\n",
    "# Fit the grid search to the data\n",
    "random_search.fit(X_train_selected, y_train_resampled)\n",
    "\n",
    "# Print the best parameters and the best score\n",
    "print(\"Best Parameters:\", random_search.best_params_)\n",
    "print(\"Best Score:\", random_search.best_score_)\n",
    "\n",
    "\n",
    "best_rf = random_search.best_estimator_\n",
    "y_pred_rf = best_rf.predict(X_test_selected)\n",
    "\n"
   ]
  },
  {
   "cell_type": "code",
   "execution_count": 258,
   "metadata": {},
   "outputs": [
    {
     "name": "stdout",
     "output_type": "stream",
     "text": [
      "Balanced accuracy score: 0.7208689576719851\n",
      "              precision    recall  f1-score   support\n",
      "\n",
      "           0       0.78      0.80      0.79      3774\n",
      "           1       0.67      0.65      0.66      2456\n",
      "\n",
      "    accuracy                           0.74      6230\n",
      "   macro avg       0.72      0.72      0.72      6230\n",
      "weighted avg       0.74      0.74      0.74      6230\n",
      "\n",
      "Training Score: 0.9849394929776522\n",
      "Testing Score: 0.7367576243980738\n"
     ]
    }
   ],
   "source": [
    "print(f'Balanced accuracy score: {balanced_accuracy_score(y_test, y_pred_rf)}')\n",
    "print(classification_report(y_test, y_pred_rf))\n",
    "\n",
    "print(f'Training Score: {best_rf.score(X_train_selected, y_train_resampled)}')\n",
    "print(f'Testing Score: {best_rf.score(X_test_selected, y_test)}')"
   ]
  },
  {
   "cell_type": "code",
   "execution_count": null,
   "metadata": {},
   "outputs": [],
   "source": [
    "#Define the parameter grid\n",
    "param_grid = {\n",
    "    'n_estimators': [100, 200, 300, 400, 500],  # Number of trees in the forest\n",
    "    'max_depth': [4,5,6,7], # Maximum depth of the tree\n",
    "    'min_samples_split': [2, 5, 10],            # Minimum number of samples required to split a node\n",
    "    'min_samples_leaf': [1, 2, 4],              # Minimum number of samples required at each leaf node\n",
    "    'max_features': [None, 'sqrt', 'log2'],   # Number of features to consider when looking for the best split\n",
    "    'bootstrap': [True, False]                  # Whether bootstrap samples are used when building trees\n",
    "}\n",
    "\n",
    "# Create the RandomForestClassifier model\n",
    "rf_model_grid = RandomForestClassifier(random_state=13)\n",
    "\n",
    "# Create the GridSearchCV object\n",
    "grid_search = GridSearchCV(estimator=rf_model, param_grid=param_grid, \n",
    "                           cv=5, n_jobs=-1, verbose=3)\n",
    "\n",
    "# Fit the grid search to the data\n",
    "grid_search.fit(X_train_resampled, y_train_resampled)\n",
    "\n",
    "# Print the best parameters and the best score\n",
    "print(\"Best Parameters:\", grid_search.best_params_)\n",
    "print(\"Best Score:\", grid_search.best_score_)\n"
   ]
  },
  {
   "cell_type": "code",
   "execution_count": null,
   "metadata": {},
   "outputs": [],
   "source": [
    "# Feature importance\n",
    "best_rf = random_search.best_estimator_\n",
    "importances = best_rf.feature_importances_\n",
    "feature_importances = pd.Series(importances, index=X_train.columns).sort_values(ascending=False)\n",
    "print(\"\\nFeature Importances:\")\n",
    "print(feature_importances)\n"
   ]
  },
  {
   "cell_type": "code",
   "execution_count": 45,
   "metadata": {},
   "outputs": [
    {
     "name": "stdout",
     "output_type": "stream",
     "text": [
      "0.6546975577800448\n"
     ]
    }
   ],
   "source": [
    "# Create the RandomForestClassifier model\n",
    "rf_model_grid = RandomForestClassifier(random_state=13,\n",
    "                                   n_estimators= 400,\n",
    "                                    min_samples_split=6,\n",
    "                                    min_samples_leaf= 1,\n",
    "                                    max_features= None,\n",
    "                                    max_depth=5,\n",
    "                                    bootstrap=True,\n",
    "                                    )\n",
    "\n",
    "#fit the model\n",
    "rf_model_grid.fit(X_train,y_train)\n",
    "\n",
    "#predict\n",
    "y_pred_rf_grid = rf_model_grid.predict(X_test)\n",
    "print(balanced_accuracy_score(y_test, y_pred_rf_grid))"
   ]
  },
  {
   "cell_type": "markdown",
   "metadata": {},
   "source": [
    "w/out problem id:\n",
    "balanced accuracy score:0.627274261231916\n",
    "w/ problem_id\n",
    "balanced accuracy score: 0.6272031635966298\n",
    "\n",
    "added month, year, day_of_week & oversampler: 0.7031507580583074  (max_depth = 7)\n",
    "max_depth = 6: 0.6952886973963809\n",
    "max_depth = 5: 0.6850869958864785\n",
    "max_depth = 4: 0.666400940603374\n",
    "max_depth = 6: 0.6783363886975691  (no sampler or problem id)"
   ]
  },
  {
   "cell_type": "code",
   "execution_count": 254,
   "metadata": {},
   "outputs": [
    {
     "name": "stdout",
     "output_type": "stream",
     "text": [
      "0.702255618331495\n"
     ]
    }
   ],
   "source": [
    "# Create the RandomForestClassifier model\n",
    "rf_model = RandomForestClassifier(random_state=13,\n",
    "                                   n_estimators= 400,\n",
    "                                    min_samples_split=4,\n",
    "                                    min_samples_leaf= 3,\n",
    "                                    max_features=None,\n",
    "                                    max_depth=6,\n",
    "                                    bootstrap=True)\n",
    "\n",
    "#fit the model\n",
    "rf_model.fit(X_train_resampled,y_train_resampled)\n",
    "\n",
    "#predict\n",
    "y_pred_rf = rf_model.predict(X_test)\n",
    "print(balanced_accuracy_score(y_test, y_pred_rf))"
   ]
  },
  {
   "cell_type": "code",
   "execution_count": 255,
   "metadata": {},
   "outputs": [
    {
     "data": {
      "text/plain": [
       "'balanced accuracy score: 0.702255618331495'"
      ]
     },
     "metadata": {},
     "output_type": "display_data"
    },
    {
     "name": "stdout",
     "output_type": "stream",
     "text": [
      "              precision    recall  f1-score   support\n",
      "\n",
      "           0       0.63      0.81      0.71      2937\n",
      "           1       0.77      0.58      0.66      3293\n",
      "\n",
      "    accuracy                           0.69      6230\n",
      "   macro avg       0.70      0.69      0.69      6230\n",
      "weighted avg       0.71      0.69      0.68      6230\n",
      "\n"
     ]
    },
    {
     "data": {
      "text/plain": [
       "'Training Score: 0.7307658334069429'"
      ]
     },
     "metadata": {},
     "output_type": "display_data"
    },
    {
     "data": {
      "text/plain": [
       "'Testing Score: 0.6871589085072232'"
      ]
     },
     "metadata": {},
     "output_type": "display_data"
    }
   ],
   "source": [
    "display(f'balanced accuracy score: {balanced_accuracy_score(y_test, y_pred_rf)}')\n",
    "print(classification_report(y_pred_rf, y_test))\n",
    "\n",
    "display(f'Training Score: {rf_model.score(X_train_resampled, y_train_resampled)}')\n",
    "display(f'Testing Score: {rf_model.score(X_test, y_test)}')\n"
   ]
  },
  {
   "cell_type": "markdown",
   "metadata": {},
   "source": [
    "original: \n",
    "'balanced accuracy score: 0.625125364874359'\n",
    "              precision    recall  f1-score   support\n",
    "\n",
    "           0       0.87      0.68      0.76      4790\n",
    "           1       0.38      0.65      0.48      1440\n",
    "\n",
    "    accuracy                           0.68      6230\n",
    "   macro avg       0.63      0.67      0.62      6230\n",
    "weighted avg       0.76      0.68      0.70      6230\n",
    "\n",
    "'Training Score: 0.702857448630137''Testing Score: 0.6764044943820224'\n",
    "\n",
    "added problem_id, month, year, day_of_week & oversampler max depth=7:\n",
    "'balanced accuracy score: 0.702255618331495'\n",
    "              precision    recall  f1-score   support\n",
    "\n",
    "           0       0.63      0.81      0.71      2937\n",
    "           1       0.77      0.58      0.66      3293\n",
    "\n",
    "    accuracy                           0.69      6230\n",
    "   macro avg       0.70      0.69      0.69      6230\n",
    "weighted avg       0.71      0.69      0.68      6230\n",
    "\n",
    "'Training Score: 0.7307658334069429''Testing Score: 0.6871589085072232'\n"
   ]
  },
  {
   "cell_type": "code",
   "execution_count": 46,
   "metadata": {},
   "outputs": [
    {
     "data": {
      "text/plain": [
       "'balanced accuracy score: 0.6546975577800448'"
      ]
     },
     "metadata": {},
     "output_type": "display_data"
    },
    {
     "name": "stdout",
     "output_type": "stream",
     "text": [
      "              precision    recall  f1-score   support\n",
      "\n",
      "           0       0.82      0.71      0.76      4341\n",
      "           1       0.49      0.64      0.55      1889\n",
      "\n",
      "    accuracy                           0.69      6230\n",
      "   macro avg       0.65      0.67      0.66      6230\n",
      "weighted avg       0.72      0.69      0.70      6230\n",
      "\n"
     ]
    },
    {
     "data": {
      "text/plain": [
       "'Training Score: 0.7008775684931506'"
      ]
     },
     "metadata": {},
     "output_type": "display_data"
    },
    {
     "data": {
      "text/plain": [
       "'Testing Score: 0.6894060995184591'"
      ]
     },
     "metadata": {},
     "output_type": "display_data"
    }
   ],
   "source": [
    "display(f'balanced accuracy score: {balanced_accuracy_score(y_test, y_pred_rf_grid)}')\n",
    "print(classification_report(y_pred_rf_grid, y_test))\n",
    "\n",
    "display(f'Training Score: {rf_model_grid.score(X_train, y_train)}')\n",
    "display(f'Testing Score: {rf_model_grid.score(X_test, y_test)}')\n"
   ]
  },
  {
   "cell_type": "markdown",
   "metadata": {},
   "source": [
    "original: \n",
    "'balanced accuracy score: 0.627274261231916'\n",
    "              precision    recall  f1-score   support\n",
    "\n",
    "           0       0.87      0.68      0.77      4791\n",
    "           1       0.39      0.66      0.49      1439\n",
    "\n",
    "    accuracy                           0.68      6230\n",
    "   macro avg       0.63      0.67      0.63      6230\n",
    "weighted avg       0.76      0.68      0.70      6230\n",
    "\n",
    "'Training Score: 0.703392551369863'\n",
    "'Testing Score: 0.6784911717495987'\n",
    "\n",
    "added: month, year, day_of_week, no problem id &  no oversampled: max depth =6\n",
    "\n",
    "              precision    recall  f1-score   support\n",
    "\n",
    "           0       0.79      0.74      0.76      4040\n",
    "           1       0.57      0.64      0.60      2190\n",
    "\n",
    "    accuracy                           0.70      6230\n",
    "   macro avg       0.68      0.69      0.68      6230\n",
    "weighted avg       0.71      0.70      0.71      6230\n",
    "  Training Score: 0.7214790239726028'\n",
    "  'Testing Score: 0.7017656500802568'\n",
    "\n",
    "same: max_depth =5:\n",
    "'balanced accuracy score: 0.6546975577800448'\n",
    "              precision    recall  f1-score   support\n",
    "\n",
    "           0       0.82      0.71      0.76      4341\n",
    "           1       0.49      0.64      0.55      1889\n",
    "\n",
    "    accuracy                           0.69      6230\n",
    "   macro avg       0.65      0.67      0.66      6230\n",
    "weighted avg       0.72      0.69      0.70      6230\n",
    "\n",
    "'Training Score: 0.7008775684931506'\n",
    "'Testing Score: 0.6894060995184591'\n",
    "\n",
    "\n"
   ]
  }
 ],
 "metadata": {
  "kernelspec": {
   "display_name": "dev",
   "language": "python",
   "name": "python3"
  },
  "language_info": {
   "codemirror_mode": {
    "name": "ipython",
    "version": 3
   },
   "file_extension": ".py",
   "mimetype": "text/x-python",
   "name": "python",
   "nbconvert_exporter": "python",
   "pygments_lexer": "ipython3",
   "version": "3.10.14"
  }
 },
 "nbformat": 4,
 "nbformat_minor": 2
}
